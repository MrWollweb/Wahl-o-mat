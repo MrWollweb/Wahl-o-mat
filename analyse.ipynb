{
 "cells": [
  {
   "cell_type": "markdown",
   "metadata": {},
   "source": [
    "# Analyse auf basis des Wahl-o-mat Datensatzes"
   ]
  },
  {
   "cell_type": "markdown",
   "metadata": {},
   "source": [
    "### Imports"
   ]
  },
  {
   "cell_type": "code",
   "execution_count": 24,
   "metadata": {},
   "outputs": [],
   "source": [
    "import pandas as pd\n",
    "import numpy as np\n",
    "import plotly.graph_objects as go\n",
    "import sklearn.cluster as cluster\n",
    "from sklearn.metrics import normalized_mutual_info_score\n",
    "import warnings\n",
    "import dash\n",
    "from dash import dcc, html\n",
    "import plotly.io as pio\n",
    "\n",
    "warnings.filterwarnings(\"ignore\")"
   ]
  },
  {
   "cell_type": "markdown",
   "metadata": {},
   "source": [
    "## 2025"
   ]
  },
  {
   "cell_type": "markdown",
   "metadata": {},
   "source": [
    "### Daten einlesen"
   ]
  },
  {
   "cell_type": "code",
   "execution_count": 25,
   "metadata": {},
   "outputs": [],
   "source": [
    "file = 'data/2025.csv'\n",
    "\n",
    "df = pd.read_csv(file, sep=';')\n",
    "df['Jahr'] = file.split('.')[0]\n"
   ]
  },
  {
   "cell_type": "code",
   "execution_count": 26,
   "metadata": {},
   "outputs": [],
   "source": [
    "def pivot_df(df):\n",
    "    df_fixed = df.pivot_table(index='Partei: Kurzbezeichnung', columns='These: Titel', values='Position: Position', aggfunc='first')\n",
    "    df_fixed.replace('stimme zu', 1, inplace=True)\n",
    "    df_fixed.replace('neutral', 0.5, inplace=True)\n",
    "    df_fixed.replace('stimme nicht zu', 0, inplace=True)\n",
    "    return df_fixed\n"
   ]
  },
  {
   "cell_type": "code",
   "execution_count": 27,
   "metadata": {},
   "outputs": [],
   "source": [
    "df_fixed = pivot_df(df)\n"
   ]
  },
  {
   "cell_type": "markdown",
   "metadata": {},
   "source": [
    "### PCA"
   ]
  },
  {
   "cell_type": "code",
   "execution_count": 59,
   "metadata": {},
   "outputs": [],
   "source": [
    "def plot_heatmap(mat, x_labels, y_labels):\n",
    "    fig = go.Figure(data=go.Heatmap(\n",
    "        z=mat,\n",
    "        x=x_labels,\n",
    "        y=y_labels,\n",
    "        colorscale='Plasma'))\n",
    "    \n",
    "    fig.update_layout(\n",
    "        title='Covariance Heatmap',\n",
    "    )    \n",
    "    return fig\n",
    "    "
   ]
  },
  {
   "cell_type": "code",
   "execution_count": 60,
   "metadata": {},
   "outputs": [],
   "source": [
    "def plot_pcs(pcs, lables):\n",
    "    fig = go.Figure(data=go.Heatmap(\n",
    "        z=pcs,\n",
    "        y=lables,\n",
    "        x=[f'PC {i+1}' for i in range(pcs.shape[1])],\n",
    "        colorscale='Plasma'))\n",
    "    \n",
    "    fig.update_layout(\n",
    "        title='Principal Components'\n",
    "        )\n",
    "    \n",
    "    return fig"
   ]
  },
  {
   "cell_type": "code",
   "execution_count": 61,
   "metadata": {},
   "outputs": [],
   "source": [
    "def plot_cumcum(values):\n",
    "    values = values.cumsum()/values.sum()\n",
    "    fig = go.Figure(data=go.Scatter(x=list(range(1, len(values)+1)), y=values, mode='lines+markers'))\n",
    "    fig.update_layout(\n",
    "        title='Cumulative Explained Variance'\n",
    "        )\n",
    "    return fig"
   ]
  },
  {
   "cell_type": "code",
   "execution_count": 62,
   "metadata": {},
   "outputs": [],
   "source": [
    "def plot_pca1d(points, labels, colors=None):\n",
    "    fig = go.Figure(data=go.Scatter(x=points[:,0], y=[0]*len(points), mode='markers+text', text=labels, textposition='top center', marker=dict(color=colors)))\n",
    "    fig.update_layout(\n",
    "        title='PCA 1D'\n",
    "        )\n",
    "    return fig"
   ]
  },
  {
   "cell_type": "code",
   "execution_count": 63,
   "metadata": {},
   "outputs": [],
   "source": [
    "def plot_pca2d(points, labels, colors=None):\n",
    "    fig = go.Figure()\n",
    "\n",
    "    fig.add_trace(go.Scatter(x=points[:,0], y=points[:,1], mode='markers+text', text=labels, textposition='top center', marker=dict(color=colors)))\n",
    "    fig.update_layout(\n",
    "        title='PCA 2D'\n",
    "        )\n",
    "    \n",
    "    return fig"
   ]
  },
  {
   "cell_type": "code",
   "execution_count": 64,
   "metadata": {},
   "outputs": [],
   "source": [
    "def plot_pca3d(points, labels,colors=None):\n",
    "    fig = go.Figure()\n",
    "\n",
    "    fig.add_trace(go.Scatter3d(x=points[:,0], y=points[:,1], z=points[:,2], mode='markers+text', text=labels, textposition='top center', marker=dict(color=colors)))\n",
    "    fig.update_layout(\n",
    "        title='PCA 3D'\n",
    "        )\n",
    "    \n",
    "    return fig"
   ]
  },
  {
   "cell_type": "code",
   "execution_count": 65,
   "metadata": {},
   "outputs": [
    {
     "data": {
      "application/vnd.plotly.v1+json": {
       "config": {
        "plotlyServerURL": "https://plot.ly"
       },
       "data": [
        {
         "mode": "lines+markers",
         "type": "scatter",
         "x": [
          1,
          2,
          3,
          4,
          5,
          6,
          7,
          8,
          9,
          10,
          11,
          12,
          13,
          14,
          15,
          16,
          17,
          18,
          19,
          20,
          21,
          22,
          23,
          24,
          25,
          26,
          27,
          28,
          29,
          30,
          31,
          32,
          33,
          34,
          35,
          36,
          37,
          38
         ],
         "y": {
          "bdata": "AqL+33zb3D/xW085yebhPzRqiVBRT+Q/2pLffQ1a5j/LDprmv+3nP98ZjcG8Q+k/pXdkKkZd6j+CYws2QkzrPwyFoBCuG+w/0DiV5quz7D+JNQqRRkXtP8A2R33Vw+0/TBmFJP4z7j+M3Y3qD5/uP68grZh05u4/sctzh+Yd7z8s8SvPkU7vPyDUx22xee8/kx4+lTqd7z9ALfe1UbzvPxFJI72E0O8/bJmXJOvj7z8K3R2fGfDvPw0i/g8P9+8/DJyJ9Br87z+F4GxrUv7vP/v//////+8/+///////7z/7///////vP/v//////+8/+///////7z/7///////vP/v//////+8/+///////7z/7///////vP/v//////+8/+///////7z/7///////vPw==",
          "dtype": "f8"
         }
        }
       ],
       "layout": {
        "template": {
         "data": {
          "bar": [
           {
            "error_x": {
             "color": "#2a3f5f"
            },
            "error_y": {
             "color": "#2a3f5f"
            },
            "marker": {
             "line": {
              "color": "#E5ECF6",
              "width": 0.5
             },
             "pattern": {
              "fillmode": "overlay",
              "size": 10,
              "solidity": 0.2
             }
            },
            "type": "bar"
           }
          ],
          "barpolar": [
           {
            "marker": {
             "line": {
              "color": "#E5ECF6",
              "width": 0.5
             },
             "pattern": {
              "fillmode": "overlay",
              "size": 10,
              "solidity": 0.2
             }
            },
            "type": "barpolar"
           }
          ],
          "carpet": [
           {
            "aaxis": {
             "endlinecolor": "#2a3f5f",
             "gridcolor": "white",
             "linecolor": "white",
             "minorgridcolor": "white",
             "startlinecolor": "#2a3f5f"
            },
            "baxis": {
             "endlinecolor": "#2a3f5f",
             "gridcolor": "white",
             "linecolor": "white",
             "minorgridcolor": "white",
             "startlinecolor": "#2a3f5f"
            },
            "type": "carpet"
           }
          ],
          "choropleth": [
           {
            "colorbar": {
             "outlinewidth": 0,
             "ticks": ""
            },
            "type": "choropleth"
           }
          ],
          "contour": [
           {
            "colorbar": {
             "outlinewidth": 0,
             "ticks": ""
            },
            "colorscale": [
             [
              0,
              "#0d0887"
             ],
             [
              0.1111111111111111,
              "#46039f"
             ],
             [
              0.2222222222222222,
              "#7201a8"
             ],
             [
              0.3333333333333333,
              "#9c179e"
             ],
             [
              0.4444444444444444,
              "#bd3786"
             ],
             [
              0.5555555555555556,
              "#d8576b"
             ],
             [
              0.6666666666666666,
              "#ed7953"
             ],
             [
              0.7777777777777778,
              "#fb9f3a"
             ],
             [
              0.8888888888888888,
              "#fdca26"
             ],
             [
              1,
              "#f0f921"
             ]
            ],
            "type": "contour"
           }
          ],
          "contourcarpet": [
           {
            "colorbar": {
             "outlinewidth": 0,
             "ticks": ""
            },
            "type": "contourcarpet"
           }
          ],
          "heatmap": [
           {
            "colorbar": {
             "outlinewidth": 0,
             "ticks": ""
            },
            "colorscale": [
             [
              0,
              "#0d0887"
             ],
             [
              0.1111111111111111,
              "#46039f"
             ],
             [
              0.2222222222222222,
              "#7201a8"
             ],
             [
              0.3333333333333333,
              "#9c179e"
             ],
             [
              0.4444444444444444,
              "#bd3786"
             ],
             [
              0.5555555555555556,
              "#d8576b"
             ],
             [
              0.6666666666666666,
              "#ed7953"
             ],
             [
              0.7777777777777778,
              "#fb9f3a"
             ],
             [
              0.8888888888888888,
              "#fdca26"
             ],
             [
              1,
              "#f0f921"
             ]
            ],
            "type": "heatmap"
           }
          ],
          "histogram": [
           {
            "marker": {
             "pattern": {
              "fillmode": "overlay",
              "size": 10,
              "solidity": 0.2
             }
            },
            "type": "histogram"
           }
          ],
          "histogram2d": [
           {
            "colorbar": {
             "outlinewidth": 0,
             "ticks": ""
            },
            "colorscale": [
             [
              0,
              "#0d0887"
             ],
             [
              0.1111111111111111,
              "#46039f"
             ],
             [
              0.2222222222222222,
              "#7201a8"
             ],
             [
              0.3333333333333333,
              "#9c179e"
             ],
             [
              0.4444444444444444,
              "#bd3786"
             ],
             [
              0.5555555555555556,
              "#d8576b"
             ],
             [
              0.6666666666666666,
              "#ed7953"
             ],
             [
              0.7777777777777778,
              "#fb9f3a"
             ],
             [
              0.8888888888888888,
              "#fdca26"
             ],
             [
              1,
              "#f0f921"
             ]
            ],
            "type": "histogram2d"
           }
          ],
          "histogram2dcontour": [
           {
            "colorbar": {
             "outlinewidth": 0,
             "ticks": ""
            },
            "colorscale": [
             [
              0,
              "#0d0887"
             ],
             [
              0.1111111111111111,
              "#46039f"
             ],
             [
              0.2222222222222222,
              "#7201a8"
             ],
             [
              0.3333333333333333,
              "#9c179e"
             ],
             [
              0.4444444444444444,
              "#bd3786"
             ],
             [
              0.5555555555555556,
              "#d8576b"
             ],
             [
              0.6666666666666666,
              "#ed7953"
             ],
             [
              0.7777777777777778,
              "#fb9f3a"
             ],
             [
              0.8888888888888888,
              "#fdca26"
             ],
             [
              1,
              "#f0f921"
             ]
            ],
            "type": "histogram2dcontour"
           }
          ],
          "mesh3d": [
           {
            "colorbar": {
             "outlinewidth": 0,
             "ticks": ""
            },
            "type": "mesh3d"
           }
          ],
          "parcoords": [
           {
            "line": {
             "colorbar": {
              "outlinewidth": 0,
              "ticks": ""
             }
            },
            "type": "parcoords"
           }
          ],
          "pie": [
           {
            "automargin": true,
            "type": "pie"
           }
          ],
          "scatter": [
           {
            "fillpattern": {
             "fillmode": "overlay",
             "size": 10,
             "solidity": 0.2
            },
            "type": "scatter"
           }
          ],
          "scatter3d": [
           {
            "line": {
             "colorbar": {
              "outlinewidth": 0,
              "ticks": ""
             }
            },
            "marker": {
             "colorbar": {
              "outlinewidth": 0,
              "ticks": ""
             }
            },
            "type": "scatter3d"
           }
          ],
          "scattercarpet": [
           {
            "marker": {
             "colorbar": {
              "outlinewidth": 0,
              "ticks": ""
             }
            },
            "type": "scattercarpet"
           }
          ],
          "scattergeo": [
           {
            "marker": {
             "colorbar": {
              "outlinewidth": 0,
              "ticks": ""
             }
            },
            "type": "scattergeo"
           }
          ],
          "scattergl": [
           {
            "marker": {
             "colorbar": {
              "outlinewidth": 0,
              "ticks": ""
             }
            },
            "type": "scattergl"
           }
          ],
          "scattermap": [
           {
            "marker": {
             "colorbar": {
              "outlinewidth": 0,
              "ticks": ""
             }
            },
            "type": "scattermap"
           }
          ],
          "scattermapbox": [
           {
            "marker": {
             "colorbar": {
              "outlinewidth": 0,
              "ticks": ""
             }
            },
            "type": "scattermapbox"
           }
          ],
          "scatterpolar": [
           {
            "marker": {
             "colorbar": {
              "outlinewidth": 0,
              "ticks": ""
             }
            },
            "type": "scatterpolar"
           }
          ],
          "scatterpolargl": [
           {
            "marker": {
             "colorbar": {
              "outlinewidth": 0,
              "ticks": ""
             }
            },
            "type": "scatterpolargl"
           }
          ],
          "scatterternary": [
           {
            "marker": {
             "colorbar": {
              "outlinewidth": 0,
              "ticks": ""
             }
            },
            "type": "scatterternary"
           }
          ],
          "surface": [
           {
            "colorbar": {
             "outlinewidth": 0,
             "ticks": ""
            },
            "colorscale": [
             [
              0,
              "#0d0887"
             ],
             [
              0.1111111111111111,
              "#46039f"
             ],
             [
              0.2222222222222222,
              "#7201a8"
             ],
             [
              0.3333333333333333,
              "#9c179e"
             ],
             [
              0.4444444444444444,
              "#bd3786"
             ],
             [
              0.5555555555555556,
              "#d8576b"
             ],
             [
              0.6666666666666666,
              "#ed7953"
             ],
             [
              0.7777777777777778,
              "#fb9f3a"
             ],
             [
              0.8888888888888888,
              "#fdca26"
             ],
             [
              1,
              "#f0f921"
             ]
            ],
            "type": "surface"
           }
          ],
          "table": [
           {
            "cells": {
             "fill": {
              "color": "#EBF0F8"
             },
             "line": {
              "color": "white"
             }
            },
            "header": {
             "fill": {
              "color": "#C8D4E3"
             },
             "line": {
              "color": "white"
             }
            },
            "type": "table"
           }
          ]
         },
         "layout": {
          "annotationdefaults": {
           "arrowcolor": "#2a3f5f",
           "arrowhead": 0,
           "arrowwidth": 1
          },
          "autotypenumbers": "strict",
          "coloraxis": {
           "colorbar": {
            "outlinewidth": 0,
            "ticks": ""
           }
          },
          "colorscale": {
           "diverging": [
            [
             0,
             "#8e0152"
            ],
            [
             0.1,
             "#c51b7d"
            ],
            [
             0.2,
             "#de77ae"
            ],
            [
             0.3,
             "#f1b6da"
            ],
            [
             0.4,
             "#fde0ef"
            ],
            [
             0.5,
             "#f7f7f7"
            ],
            [
             0.6,
             "#e6f5d0"
            ],
            [
             0.7,
             "#b8e186"
            ],
            [
             0.8,
             "#7fbc41"
            ],
            [
             0.9,
             "#4d9221"
            ],
            [
             1,
             "#276419"
            ]
           ],
           "sequential": [
            [
             0,
             "#0d0887"
            ],
            [
             0.1111111111111111,
             "#46039f"
            ],
            [
             0.2222222222222222,
             "#7201a8"
            ],
            [
             0.3333333333333333,
             "#9c179e"
            ],
            [
             0.4444444444444444,
             "#bd3786"
            ],
            [
             0.5555555555555556,
             "#d8576b"
            ],
            [
             0.6666666666666666,
             "#ed7953"
            ],
            [
             0.7777777777777778,
             "#fb9f3a"
            ],
            [
             0.8888888888888888,
             "#fdca26"
            ],
            [
             1,
             "#f0f921"
            ]
           ],
           "sequentialminus": [
            [
             0,
             "#0d0887"
            ],
            [
             0.1111111111111111,
             "#46039f"
            ],
            [
             0.2222222222222222,
             "#7201a8"
            ],
            [
             0.3333333333333333,
             "#9c179e"
            ],
            [
             0.4444444444444444,
             "#bd3786"
            ],
            [
             0.5555555555555556,
             "#d8576b"
            ],
            [
             0.6666666666666666,
             "#ed7953"
            ],
            [
             0.7777777777777778,
             "#fb9f3a"
            ],
            [
             0.8888888888888888,
             "#fdca26"
            ],
            [
             1,
             "#f0f921"
            ]
           ]
          },
          "colorway": [
           "#636efa",
           "#EF553B",
           "#00cc96",
           "#ab63fa",
           "#FFA15A",
           "#19d3f3",
           "#FF6692",
           "#B6E880",
           "#FF97FF",
           "#FECB52"
          ],
          "font": {
           "color": "#2a3f5f"
          },
          "geo": {
           "bgcolor": "white",
           "lakecolor": "white",
           "landcolor": "#E5ECF6",
           "showlakes": true,
           "showland": true,
           "subunitcolor": "white"
          },
          "hoverlabel": {
           "align": "left"
          },
          "hovermode": "closest",
          "mapbox": {
           "style": "light"
          },
          "paper_bgcolor": "white",
          "plot_bgcolor": "#E5ECF6",
          "polar": {
           "angularaxis": {
            "gridcolor": "white",
            "linecolor": "white",
            "ticks": ""
           },
           "bgcolor": "#E5ECF6",
           "radialaxis": {
            "gridcolor": "white",
            "linecolor": "white",
            "ticks": ""
           }
          },
          "scene": {
           "xaxis": {
            "backgroundcolor": "#E5ECF6",
            "gridcolor": "white",
            "gridwidth": 2,
            "linecolor": "white",
            "showbackground": true,
            "ticks": "",
            "zerolinecolor": "white"
           },
           "yaxis": {
            "backgroundcolor": "#E5ECF6",
            "gridcolor": "white",
            "gridwidth": 2,
            "linecolor": "white",
            "showbackground": true,
            "ticks": "",
            "zerolinecolor": "white"
           },
           "zaxis": {
            "backgroundcolor": "#E5ECF6",
            "gridcolor": "white",
            "gridwidth": 2,
            "linecolor": "white",
            "showbackground": true,
            "ticks": "",
            "zerolinecolor": "white"
           }
          },
          "shapedefaults": {
           "line": {
            "color": "#2a3f5f"
           }
          },
          "ternary": {
           "aaxis": {
            "gridcolor": "white",
            "linecolor": "white",
            "ticks": ""
           },
           "baxis": {
            "gridcolor": "white",
            "linecolor": "white",
            "ticks": ""
           },
           "bgcolor": "#E5ECF6",
           "caxis": {
            "gridcolor": "white",
            "linecolor": "white",
            "ticks": ""
           }
          },
          "title": {
           "x": 0.05
          },
          "xaxis": {
           "automargin": true,
           "gridcolor": "white",
           "linecolor": "white",
           "ticks": "",
           "title": {
            "standoff": 15
           },
           "zerolinecolor": "white",
           "zerolinewidth": 2
          },
          "yaxis": {
           "automargin": true,
           "gridcolor": "white",
           "linecolor": "white",
           "ticks": "",
           "title": {
            "standoff": 15
           },
           "zerolinecolor": "white",
           "zerolinewidth": 2
          }
         }
        },
        "title": {
         "text": "Cumulative Explained Variance"
        }
       }
      }
     },
     "metadata": {},
     "output_type": "display_data"
    },
    {
     "data": {
      "application/vnd.plotly.v1+json": {
       "config": {
        "plotlyServerURL": "https://plot.ly"
       },
       "data": [
        {
         "colorscale": [
          [
           0,
           "#0d0887"
          ],
          [
           0.1111111111111111,
           "#46039f"
          ],
          [
           0.2222222222222222,
           "#7201a8"
          ],
          [
           0.3333333333333333,
           "#9c179e"
          ],
          [
           0.4444444444444444,
           "#bd3786"
          ],
          [
           0.5555555555555556,
           "#d8576b"
          ],
          [
           0.6666666666666666,
           "#ed7953"
          ],
          [
           0.7777777777777778,
           "#fb9f3a"
          ],
          [
           0.8888888888888888,
           "#fdca26"
          ],
          [
           1,
           "#f0f921"
          ]
         ],
         "type": "heatmap",
         "x": [
          "35-Stunden-Woche",
          "Abschaffung der Frauenquote",
          "Abschaffung von Zöllen",
          "Abweisung Asylsuchender",
          "Anhebung des Spitzensteuersatzes",
          "Anwerbung von Fachkräften",
          "Arbeitserlaubnis für Asylsuchende",
          "Automatisierte Gesichtserkennung",
          "Begrenzung der Mietpreise",
          "Ehrenamt",
          "Einschränkung des Streikrechts",
          "Elternabhängiges BAföG",
          "Energieintensive Unternehmen",
          "Erhöhung des Mindestlohns",
          "Erneuerbare Energien",
          "Fossile Brennstoffe",
          "Grundgesetz",
          "Kompetenzen in der Schulpolitik",
          "Kontrolle von Zulieferern",
          "Krankenkassen",
          "Nationale Währung",
          "Nutzung der Kernenergie",
          "Projekte gegen Rechtsextremismus",
          "Rente nach 40 Beitragsjahren",
          "Rüstungsexporte nach Israel",
          "Schiene vor Straße",
          "Schuldenbremse",
          "Schwangerschaftsabbruch nach Beratung",
          "Soziales Pflichtjahr",
          "Strafrecht für unter 14-Jährige",
          "Streichung des Bürgergelds",
          "Tempolimit auf Autobahnen",
          "Umlegung der Grundsteuer",
          "Unterstützung der Ukraine",
          "Verwerfen der Klimaziele",
          "Volksentscheide",
          "Zweite Staatsbürgerschaft",
          "Ökologische Landwirtschaft"
         ],
         "y": [
          "35-Stunden-Woche",
          "Abschaffung der Frauenquote",
          "Abschaffung von Zöllen",
          "Abweisung Asylsuchender",
          "Anhebung des Spitzensteuersatzes",
          "Anwerbung von Fachkräften",
          "Arbeitserlaubnis für Asylsuchende",
          "Automatisierte Gesichtserkennung",
          "Begrenzung der Mietpreise",
          "Ehrenamt",
          "Einschränkung des Streikrechts",
          "Elternabhängiges BAföG",
          "Energieintensive Unternehmen",
          "Erhöhung des Mindestlohns",
          "Erneuerbare Energien",
          "Fossile Brennstoffe",
          "Grundgesetz",
          "Kompetenzen in der Schulpolitik",
          "Kontrolle von Zulieferern",
          "Krankenkassen",
          "Nationale Währung",
          "Nutzung der Kernenergie",
          "Projekte gegen Rechtsextremismus",
          "Rente nach 40 Beitragsjahren",
          "Rüstungsexporte nach Israel",
          "Schiene vor Straße",
          "Schuldenbremse",
          "Schwangerschaftsabbruch nach Beratung",
          "Soziales Pflichtjahr",
          "Strafrecht für unter 14-Jährige",
          "Streichung des Bürgergelds",
          "Tempolimit auf Autobahnen",
          "Umlegung der Grundsteuer",
          "Unterstützung der Ukraine",
          "Verwerfen der Klimaziele",
          "Volksentscheide",
          "Zweite Staatsbürgerschaft",
          "Ökologische Landwirtschaft"
         ],
         "z": {
          "bdata": "/f//////7z8N0t1tLBPYv6uOdGifltI/ozhDQs2f4b+W01AL9X7lPwTPyBarXdG/WncDV2Upzz8igeso7C7Sv9rGSioKzOA/0XB66CH+2j+pVJN5/AXhv87zRCx/QtO/JWiaouzTz79hkubzhQPkPxxO/235g9Q/QJ/FuNCR37/FBZ5uPZTgv8sZ/zOsjMo/yGT/5Jrm4T8DYZECxHHeP9Vpj/kFMLa/3plHcsL93L+clZdjNvvVPxRmDAJ0zt8/9CfTROuB4b/uVS9pLKPiP4JeyOcneOW/zdjxu0mv3r85zNeoNvC2vwRhkQLEcd6/medXagwM579tYo/q85bgP9ZG31iwRt6/iRLIsJtBxr+clZdjNvvVv3BC6v4lzMs/rg1BH1oc4z/BXzhPu/rTPw3S3W0sE9i//P//////7z8HfcX56+XNv1jw9Ugwhtw/bfZX3jaK278Mf3R6UdrFvzQnGAp4SMg/5PbVJs5jsb/XzOdjaBDgv2bSBsNR8qY/qfu+NVq40z9tO3wd+gylP4balahdibq/bcSxiGsK3b/IroosnQHZv3CTWrdwpOE/cYXj8BW23z9nVIG0EinavyksFkd62ty/r6etGzaI17/FYxcl1JXbP8xBqXNtc+A/5kvdvTHX4r9HVHsaDJPHvz3heua6WLS/TQd56/gp3r+lCTxkKGveP4wRQpRtLOU/zklZI/xzwD+wp60bNojXP62BnOjYJtI/nlFJ83z03L/fJ5rTB0HhP2fqyWYD89C/5kvdvTHX4j9YPLxwNrHSP+dqlWOm1Nu/GQGBLi8z0L+rjnRon5bSPwd9xfnr5c2/AgAAAAAA8D8BGwBn2NjKv7aq1HJJhc4/gQY9yLSlwb/nbTvkfrbRv3zgqRGXAbs/b4YUpb96wj+d+yn7XdGxvxv7FnE+Y24/XNyyF1bLlT9DMBJPRv3Sv6/Ln74A29A/qGf+Vm55vb9HdT9rPla0P44yJw/rncG/4AZA50F3zz+qZ/5Wbnm9P5ud7taRbYo/CUQZlt9cij/ruTf9KZuxv3SGFKW/esI/4pNq+zlSoT/LrQGksNfNv8tTo5dbtpa/3+0+zOSus78eNZZu5SbKv0u+lwonjcm/UXHMEUS73b/NqZkKtRvAvzrcodGv7Ku/G+dOU3Zh1r9/wsEX7j3hv3SGFKW/esK/8KHOs5BfyT9NKYlqGrXSP/r44eFR0My/ozhDQs2f4b9Y8PVIMIbcPwEbAGfY2Mq/AwAAAAAA8D/B9at1VHzov5RUQoG7O6e/ZkfTbKKr2b97xxJ25cLYPyrEo5isoN+/Af4lXVY6279ZQ4WIw0jiP69iSTpU+d0/Wd2ywK6+pD/8LECGse3lv+pXDvvUAee/+dbEDdYr6D/CpD9GsNflP7eZJ/z65OG/JBb1+a4e7L9n3G/fBIfmvw0ONwUvM9w/11wQLbwb5j/IgsJlyBXlv7tHlT47bOC/wyB34HW30z/A3Lm2CdPkv6FPp1Y+veY/oyWh1/ly5z8ooeJ/qDjiP1Ox0lnIM+U/KXZiJ3Zi5z/KgsJlyBXlv3sjM386W+o/k7mOVRn0xL/IgsJlyBXlP+B1ALDKFLY/3nUAsMoU5r9mWAAEmI/gv5bTUAv1fuU/bfZX3jaK27+2qtRySYXOP8H1q3VUfOi/9///////7z8NASdGGNqkP6oHHB/mS9Q/e+Fn3lvt2b/cDLI/t0LnPyj9zeWHgtw/mrrtoi0S6b+H1Cw4auzUvzoUSG4f06g/D8ys37k96j+C7p/f4/jhP2S5KcrTI+e/18VCgvTy5L8MxPdeN9PgP9uB3aXK3uw/SvfBJoIs6T+beQPkTazWv2gXI41a4ue/eXMwXzmA5D+iaIk3mnrdP5/ky6XjU+K/kO9tS82H6D9D+lrfmPfrv1tzr6SU0Oe/ZJiWxY5By79GAf4BrJ/jv61HwnaB6OW/rrwm2OeD4z8WVqi4ZUbmv8fVd4VIzrI/eXMwXzmA5L+gKqsy0oPAP3YAo9HWsew/LwQSLdxg3z8Ez8gWq13Rvwx/dHpR2sW/gQY9yLSlwb+UVEKBuzunvw0BJ0YY2qQ/+v//////7z+EchseZseDP3aJHs3TeZM/LbRr2GnhoD/rrbd/pHjSv0rFKIk3zcQ/x/XiMWuTh78Qf3R6UdrFP3p4LMNLka0/WhjZy/160D8TENYx7FnDv5ZoI6gWyoQ/qPViIi5gzj8rdaI4OpNbP8u5quSelmw/ow38DDRK2r9Z5m54fwOovzWznozAGM0/XUjPPQ1m1b+dfSfPDjrTP+1ui3yMCMe/JqWFVSHSwL8xBeuFK0qsv/GLbzA9baI/5GWtRRi3z7+BtYtSx+VgvLquGH0BGbu/6UgtRJrEwz/B6M+rj2PgPzWznozAGM2/R2o6LkBU0b/EhPkxBnLBPx3mFs4bPb6/WncDV2Upzz80JxgKeEjIP+dtO+R+ttG/ZkfTbKKr2b+qBxwf5kvUP4RyGx5mx4M/9///////7z9FdWFhx6rrvy25MFUE1MA/FIR4cBll3D+Z7sMNP//Xv3B5G9KEDNq/mkUFabyyvD8Kfqqd0i3AP8CaERfzN9U/DkyEI6st2L9KMMHuaUDKv3C7NriLf8I/+tmxVaJ72D9oxSZrWCDXPxdDXIp3gcO/HjXiTgY10L/sGlbSN/OBPzzurUaTCc0/ep0X6WZgur90TfIv32PTP7qAoMgCDNa/MSGxaXXpwr9zTfIv32PTv0+/dy+Hdc6/ZkfTbKKr2b8r/oPxB9reP6Lry7U6K72/bPLlOlwRtD/sGlbSN/OBv8NuwbCKn8E/yqZlMygJ0T/Qwrf09r3gPyKB6yjsLtK/5PbVJs5jsb984KkRlwG7P3vHEnblwtg/e+Fn3lvt2b92iR7N03mTP0V1YWHHquu/+P//////7z9d9TtPoE3Iv1ShTB0e0N6/IO9Jsopg3T+fmLfHOTrgP+P21SbOY7G/JNI0P2qCyL9/arU4/zbSv4ozQDoqTdc/RhRUrxdj0z9GOP42LIDWvwcGRzVZydq/rfgrUrLh3L8E5ueaG5jKP1oENSUkn9U/YvU7T6BNyL/0ykkN5R7Uv7eBhh+BnMc/eC2Wpf8X2b9tfAgrS1vYP0clEohJn9I/yigfd5Bd0D+t+CtSsuHcP3vHEnblwtg/Nwqb1aHT3b9h9TtPoE3IP82/vn269LW/YvU7T6BNyD8lInkn4cOrv2BGaExdPN+/BhbUxbeb2r/axkoqCszgP9fM52NoEOC/b4YUpb96wj8qxKOYrKDfv9wMsj+3Quc/LbRr2GnhoD8tuTBVBNTAP131O0+gTci/+v//////7z80deO+lDjSP9dphFGGpei/LiNpfVxlhb9gjOIQzXOxP9cQqeeASew/oHBlJ0pt4j8QuZHVUXzdv2RHQyVsLNi/05/UcQFC0z/tF2dC2ZPkP3qsTvko9+M/JCGMnnVP0L+RqPH4DMbjv8Eq4r2rIt4/z6/IAb4o1T99ryVXJO3jvy7WcxhBEuE/vWZbkQay4r/xCK12aKPdv8f0qImTgrM/qzKnoHuU3L8rxKOYrKDfv8kwZX8MU+Y/k+IKHymu4L8DVGw02z+vv8Eq4r2rIt6/kjhgYCiqvz+moWDRt7DlP4syfbAkvOI/0XB66CH+2j9m0gbDUfKmP537Kftd0bG/Af4lXVY6278o/c3lh4LcP+utt3+keNK/FIR4cBll3D9UoUwdHtDevzR1476UONI//f//////7z/k+dSqDC7fvzNrvk7/B9S/Z9IGw1Hytj9V1l+/jgXVPwp5OU/g3Mo/kUi7v8sSzL/oSFqOT0TPv8kwewQsy7M/9/yZBfe92D9FeE2kkdnbPxepx/LbfrM/0YRLgB5+2r9wdrqI1MfIP51+kC5ST+U/bFquEV1A1L9cG6stN6LaPxnyv8sGQ9S/RNYiNrIcw78YR0o4C8usvweBYdddhcS/ADJ90TNW4L8zdeO+lDjSPy7MrHaU99q/MiA9vw1ioT9wdrqI1MfIvzp7Y2JUers/s9w2ffMU0z8qXF4WiyLWP6lUk3n8BeG/qfu+NVq40z8b+xZxPmNuP1lDhYjDSOI/mrrtoi0S6b9KxSiJN83EP5nuww0//9e/IO9Jsopg3T/XaYRRhqXov+T51KoMLt+/AQAAAAAA8D+25twiSeyuP6Qjt242hLu/wFWhk/Cw6L8vCOpbNxvgv9XwFgl5QuE/HTma/9vb3D88jjX2dwHUv83lQwZwqea/ei34iqi95L8BP3VwviuvP020PhR9Y98/5vqSD58w178Ug8DNwx/Xv1Wen/HVDeM/D6ifOXVZ5b9Tb/oYG/LkP3YUGBmZsuA/aJOtQtlVo79qUgJtiFvcP1lDhYjDSOI/VIAl3YzZ5b+wZ39RmPTgP5dc7bYQy5s/5vqSD58w1z9PbVxf7UOuv9HO4WDXZOa/J3i6SRP64r/O80Qsf0LTv207fB36DKU/XNyyF1bLlT+vYkk6VPndP4fULDhq7NS/x/XiMWuTh79weRvShAzav5+Yt8c5OuA/LiNpfVxlhb8za75O/wfUv7bm3CJJ7K4//f//////7z8kWTosd5O/P/GEl/8pzbG/2OSNOsvi278EbtDs8ZfbP8ZiIQ2y5+I/RPPfUrhK2b9n1jsi3nrev3Hd3zqEjNm/BxaQH2RM3z+rWHrdCErdP/R+BNCaYeC/BMkuLG1E4r9tOf7L3wHEPw1N5rh6JtO/OfahQM8m1T9NErEHesvXP47vhjLjbtg/sP8p0JAr1D+UJz3bcPrYP4Mj+kEwt9C/hCP6QTC30D/Dorf6xj/Jv/R+BNCaYeA/6NVqOSFohr+dLDZDYhvXv6owmGAlNbm/JWiaouzTz7+G2pWoXYm6v0MwEk9G/dK/Wd2ywK6+pD86FEhuH9OoPxB/dHpR2sU/mkUFabyyvD/j9tUmzmOxv2CM4hDNc7E/Z9IGw1Hytj+kI7duNoS7vyRZOix3k78/AgAAAAAA8D/1gnawR1yzv6NAG3pfssE/fSUoK52kw7+I/uZDE9irP5CGH78Es6u/SyLjqSCfiL9nVLSlDSWTP6Duq6C9+aA//gg2DxuTnb9gjOIQzXOxP37VAidxYLu/DBERwJv00D9oYszZ+u+1P01UexoMk8e/65wCQtu+qr9pYszZ+u+1PxgJRS02HM8/XN2ywK6+pD9hjOIQzXOxv2GM4hDNc7E/2GI++BA62T9gjOIQzXOxv1o8vHA2sdK/U+CKuYWdsL8oSp/u/D68v2GS5vOFA+Q/bcSxiGsK3b+vy5++ANvQP/wsQIax7eW/D8ys37k96j96eCzDS5GtPwp+qp3SLcA/JNI0P2qCyL/XEKnngEnsP1XWX7+OBdU/wFWhk/Cw6L/xhJf/Kc2xv/WCdrBHXLO/AwAAAAAA8D/ZH1LHT2njP6ThumYrveG/8I2bDpim3b/GnLkmJvHYPyNz7AY0Gec/1gSJ6PEi5T8rDSHDDIbIv4Hv2j63vOS//tExq46H3z/U/oljScvXP+axPGF0Oea/6MO6Zz/H4T92XRT3lmbmv4TXoOuQAuK/YHNIxSCNsr/TBIno8SLlv/ssQIax7eW/gY6XYGXN5T+AjpdgZc3lv1vHn5EyVb2//tExq46H379VFdJSJSq7Px6wxfqstOg/ol6cKnGC4D8cTv9t+YPUP8iuiiydAdm/qGf+Vm55vb/qVw771AHnv4Lun9/j+OE/WhjZy/160D/AmhEX8zfVP39qtTj/NtK/oHBlJ0pt4j8KeTlP4NzKPy8I6ls3G+C/2OSNOsvi27+jQBt6X7LBP9kfUsdPaeM//f//////7z9jplP/hr3lv2RHplSz3uC/cBzHcRzH4T8vPvRUYBbnP1vuQg+oGec/C+1c4jl04b/jz6gPei/mv6TUI2y25uc/cBVFH7wV1T8ks3OBR1fPv/XM9bPMO+E/t5LGkgVq4r9SIs6qrx7hv2ogqFmEvL2/4IOIR3cu2L+2mSf8+uThv/GwllM08uU/2jXy2CN4279HstPeOZvXP6TUI2y25ue/cGA/BPwSvb+55tmiVW7gP7fm2aJVbuA/QJ/FuNCR379wk1q3cKThP0d1P2s+VrQ/+dbEDdYr6D9kuSnK0yPnvxMQ1jHsWcO/DkyEI6st2L+KM0A6Kk3XPxC5kdVRfN2/kUi7v8sSzL/V8BYJeULhPwRu0Ozxl9s/fSUoK52kw7+k4bpmK73hv2OmU/+GveW/AAAAAAAA8D889/o6tp7mP1fFS++LD9y/4NM3e9yU6r9kWBbW0Ejlv5dqIJXOVNo/VZv/7/235D+VsTK3Qevjv1bEkzz9odG/M0l7lJeFxj8cUhPbLJrov7CfQwjvLuo/MTH6AhFT6D88LR99FIjSP1UeET4/9No/ecHKcg3B5T90ManFJyPmv2lcP/kO9uA/VyjUZhFi3L+VsTK3QevjP5WtRKPbQ7w/TGI4jCnc5L8kyAxR7eDev8UFnm49lOC/cYXj8BW23z+OMicP653Bv8KkP0aw1+U/18VCgvTy5L+WaCOoFsqEP0owwe5pQMq/RhRUrxdj0z9kR0MlbCzYv+hIWo5PRM+/HTma/9vb3D/GYiENsufiP4j+5kMT2Ks/8I2bDpim3b9kR6ZUs97gvzz3+jq2nuY//v//////7z+7TCl6SSjjvxSWzjsQKee/Jh2UFtX44r8eoJY3PozaPwi2ADWxaOI/al6ywVRX5L/zv/1otxvgvw7NESbOANU/TtXXZzlr5r/gV/WZybPmP9PWJjtih+w/qn5a3yMZ1z+Pg55YizTgP8GkP0aw1+U/1ukYUrXN4L8UKMnhFI7jP+kQVq3RQ8a/al6ywVRX5D/0s66jvv2rP40/oKtXTeW/qLkgNCJv1r/LGf8zrIzKP2dUgbQSKdq/4AZA50F3zz+3mSf8+uThvwzE91430+A/qPViIi5gzj9wuza4i3/CP0Y4/jYsgNa/05/UcQFC0z/JMHsELMuzPzyONfZ3AdS/RPPfUrhK2b+Qhh+/BLOrv8acuSYm8dg/cBzHcRzH4T9XxUvviw/cv7tMKXpJKOO/AwAAAAAA8D+dKw9I1rniP1nDt54J8OQ/55U+lgs94r9wWJKAo4vkv/BJxmSPUOc/lBYBMp011j/WUL921E/Fv1YLxV+Nw98/lB4ltcQU3r9JUgVL5Zzmv7Znu12KFs+/rUJo9iDP4L+3mSf8+uTRv0Ln7qIFK9c/otc1Fu8O4b+jqQcUsjrKP/BJxmSPUOe/B/lVSCs1Wj/H/QW5zx3kP8Aoqk7qKtQ/yGT/5Jrm4T8pLBZHetrcv6pn/lZueb0/JBb1+a4e7L/bgd2lyt7sPyt1ojg6k1s/+tmxVaJ72D8HBkc1Wcnav+0XZ0LZk+Q/9/yZBfe92D/N5UMGcKnmv2fWOyLeet6/SyLjqSCfiL8jc+wGNBnnPy8+9FRgFuc/4NM3e9yU6r8Uls47ECnnv50rD0jWueI/AwAAAAAA8D8i7+ZhjdHrP+gLMJ13aOC/D8y7Pc2l6b/wScZkj1DnP0o7w0U+WuA/b1QbjvM03L8BwHzQ9rHqP0rvF7RBiem/5JuncyAt6b+ZX1FHaafXv61CaPYgz+C/0/ia+2dz5L+o1CNstubnP6jUI2y25ue/pKkHFLI6yj/wScZkj1Dnv9TpjTkvwKc/R8zYMHHZ6T/G/QW5zx3kPwNhkQLEcd4/r6etGzaI17+bne7WkW2KP2fcb98Eh+a/SvfBJoIs6T/LuarknpZsP2jFJmtYINc/rfgrUrLh3L96rE75KPfjP0V4TaSR2ds/ei34iqi95L9x3d86hIzZv2dUtKUNJZM/1gSJ6PEi5T9b7kIPqBnnP2RYFtbQSOW/Jh2UFtX44r9Zw7eeCfDkPyLv5mGN0es//v//////7z88JvH2dvHgv7UmtARWu+q/DzbMjZ7N5j9VVIMGIk7kP6Cbyn9fMd+/G78vPGVT6z9cVIMGIk7kvxAZTaryo+W/dDpQz1Wew79WHUaZiufav/0JvIaszd+/UJ7N738u5T9Qns3vfy7lv4rnyg6/i8Q/DzbMjZ7N5r8Iiv5IXEHCP8FwII8EZeY/kV+4xKDo5D/VaY/5BTC2v8VjFyXUlds/CUQZlt9cij8NDjcFLzPcP5t5A+RNrNa/ow38DDRK2r8XQ1yKd4HDvwTm55obmMo/JCGMnnVP0L8Xqcfy236zPwE/dXC+K68/BxaQH2RM3z+g7qugvfmgPysNIcMMhsi/C+1c4jl04b+XaiCVzlTaPx6gljc+jNo/55U+lgs94r/oCzCdd2jgvzwm8fZ28eC/9P//////7z/GGEz+o4bhP7uB5yieQOe/XibVGZ280r8q1dFsa5ezv2SKjUNaKdm/IMmJN9ta1j+Hy07kFA7fP6P6pwAUb9U/j351MyeA1j+KSulDYybFP8De1f/ais+/qUtTVqaL0z9xCVTikLrbv7uB5yieQOc/MP6vw7osxT/RJmT7dfzYv0xXOsq4FNG/3plHcsL93L/MQalzbXPgP+u5N/0pm7G/11wQLbwb5j9oFyONWuLnv1nmbnh/A6i/HjXiTgY10L9aBDUlJJ/VP5Go8fgMxuO/0YRLgB5+2r9NtD4UfWPfP6tYet0ISt0//gg2DxuTnb+B79o+t7zkv+PPqA96L+a/VZv/7/235D8ItgA1sWjiP3BYkoCji+S/D8y7Pc2l6b+1JrQEVrvqv8YYTP6jhuE//P//////7z/gnPp3uQjpvwcCtyUtPOK/Z5LRwK571T/6D0XZ+A3nvwmyYRCnweQ/yDRb9r265T9Nj7j/lHvDP3MtQ1XhA9s/HdEVPFB63T9B23RvAaflv0PbdG8Bp+U/Oy6Oul80yb/gnPp3uQjpP33/sdnXvcu/ZB8R0zK15L9mHxHTMrXkv5yVl2M2+9U/5kvdvTHX4r90hhSlv3rCP8iCwmXIFeW/eXMwXzmA5D81s56MwBjNP+waVtI384E/YvU7T6BNyL/BKuK9qyLeP3B2uojUx8g/5vqSD58w17/0fgTQmmHgv2CM4hDNc7E//tExq46H3z+k1CNstubnP5WxMrdB6+O/al6ywVRX5L/wScZkj1DnP/BJxmSPUOc/DzbMjZ7N5j+7geconkDnv+Cc+ne5COm/AAAAAAAA8D8JDxhi2JHaP8xQ7fNFY8O/ArD54sPb4z++ZluRBrLiv3kRiN10v+a/hLtxudewx7+qMqege5Tcv3wjM386W9q/7na73W632z+T4gofKa7gv1f3cG8/v90/AAAAAAAA8L/XGHla0aHDv6ahYNG3sOU/h8qlm9a80z8UZgwCdM7fP0dUexoMk8e/4pNq+zlSoT+7R5U+O2zgv6JoiTeaet0/XUjPPQ1m1b887q1GkwnNP/TKSQ3lHtS/z6/IAb4o1T+dfpAuUk/lPxSDwM3DH9e/BMkuLG1E4r9+1QIncWC7v9T+iWNJy9c/cBVFH7wV1T9WxJM8/aHRv/O//Wi3G+C/lBYBMp011j9KO8NFPlrgP1VUgwYiTuQ/XibVGZ280r8HArclLTzivwkPGGLYkdo/AAAAAAAA8D/XeahHti7fv6QoRhxtXeA/UNuQI+BR0b9r9TFr6MrYvzv1lbnsstC/yhtyHKkg0L+VH0hgDETZv4vCdjhBEdI/hPft9Bs15b/8ErpC27TAvwkPGGLYkdq/Fq6uZiKnxT8Nk+6YpSjWPw2T7pilKNY/9CfTROuB4b894Xrmuli0v8utAaSw182/wyB34HW30z+f5Mul41Piv519J88OOtM/ep0X6WZgur+3gYYfgZzHP32vJVck7eO/bFquEV1A1L9Vnp/x1Q3jP205/svfAcQ/DBERwJv00D/msTxhdDnmvySzc4FHV8+/M0l7lJeFxj8OzREmzgDVP9ZQv3bUT8W/b1QbjvM03L+gm8p/XzHfvyrV0Wxrl7O/Z5LRwK571T/MUO3zRWPDv9d5qEe2Lt+/AAAAAAAA8D/h5oB+4lbWv5lqC+RagtY/tm9jUfZvyz8dH2eYG9+xv1j91F+pINk/WuooPLn73j/WhmZME3vXv9aGZkwTe9c/0zMuVEKX4D/MUO3zRWPDP9sfj2YdGt2/4FM51pi14b/xl6sgCcnWv+5VL2kso+I/TQd56/gp3r/LU6OXW7aWv8DcubYJ0+S/kO9tS82H6D/tbot8jAjHv3RN8i/fY9M/eC2Wpf8X2b8u1nMYQRLhP1wbqy03oto/D6ifOXVZ5b8NTea4eibTv2hizNn677U/6MO6Zz/H4T/1zPWzzDvhPxxSE9ssmui/TtXXZzlr5r9WC8VfjcPfPwHAfND2seo/G78vPGVT6z9kio1DWinZv/oPRdn4Dee/ArD54sPb4z+kKEYcbV3gP+HmgH7iVta/+///////7z+uVsHbY2Hov9Vfcjcgc+m/5ZFHHnnkwb989dXLEgXVvyeh4n+oOOK/7Zw8SIVA5T8EsPniw9vjv+mvu9kr2s8/ArD54sPb479jsca3+US6PxT3J1zwy+Q/AV+5Q1RW4z+CXsjnJ3jlv6UJPGQoa94/3+0+zOSus7+hT6dWPr3mP0P6Wt+Y9+u/JqWFVSHSwL+6gKDIAgzWv218CCtLW9g/vWZbkQay4r8Z8r/LBkPUv1Nv+hgb8uQ/OfahQM8m1T9NVHsaDJPHv3ZdFPeWZua/t5LGkgVq4r+wn0MI7y7qP+BX9ZnJs+Y/lB4ltcQU3r9K7xe0QYnpv1xUgwYiTuS/IMmJN9ta1j8JsmEQp8HkP75mW5EGsuK/UNuQI+BR0b+ZagvkWoLWP65WwdtjYei/AQAAAAAA8D9K2btKZhDpP8JXMsnltcY/yQsBeruV4T+WH0hgDETpP7cf2lzV2uO/HHCyLEgm4T+swu6a3ofSv75mW5EGsuI/2J78R2YwgD+IVHRLrD7pvw1iVLLq/di/zdjxu0mv3r+MEUKUbSzlPx41lm7lJsq/oyWh1/ly5z9bc6+klNDnvzEF64UrSqy/MSGxaXXpwr9HJRKISZ/SP/EIrXZoo92/RNYiNrIcw792FBgZmbLgP00SsQd6y9c/65wCQtu+qr+E16DrkALiv1IizqqvHuG/MTH6AhFT6D/T1iY7YofsP0lSBUvlnOa/5JuncyAt6b8QGU2q8qPlv4fLTuQUDt8/yDRb9r265T95EYjddL/mv2v1MWvoyti/tm9jUfZvyz/VX3I3IHPpv0rZu0pmEOk/AgAAAAAA8D+JPCdDEszYP8OKcHqa++I/7bGMCDGD4j9VnCITmTfiv6pP7inEgOc/xzs3BEskz795EYjddL/mP/zBuWFA174/TdgtX5PS57+T1goCxIDZvznM16g28La/zklZI/xzwD9LvpcKJ43Jvyih4n+oOOI/ZJiWxY5By7/xi28wPW2iP3NN8i/fY9O/yigfd5Bd0D/H9KiJk4KzPxhHSjgLy6y/aJOtQtlVo7+O74Yy427YP2lizNn677U/YHNIxSCNsr9qIKhZhLy9vzwtH30UiNI/qn5a3yMZ1z+2Z7tdihbPv5lfUUdpp9e/dDpQz1Wew7+j+qcAFG/VP02PuP+Ue8M/hLtxudewx7879ZW57LLQvx0fZ5gb37G/5ZFHHnnkwb/CVzLJ5bXGP4k8J0MSzNg/+///////7z+b4ey9BqDaPyHLFpKOPM8/2gdmJNIdwr8x1nMYQRLhP0uIQKlZnqC/hLtxudewxz/g1PcYg8jQP555EgHOpc6/YrHGt/lEur8EYZECxHHev7CnrRs2iNc/UXHMEUS73b9TsdJZyDPlP0YB/gGsn+O/5GWtRRi3z79Pv3cvh3XOv634K1Ky4dw/qzKnoHuU3L8HgWHXXYXEv2pSAm2IW9w/sP8p0JAr1D8YCUUtNhzPP9MEiejxIuW/4IOIR3cu2L9VHhE+P/TaP4+DnliLNOA/rUJo9iDP4L+tQmj2IM/gv1YdRpmK59q/j351MyeA1j9zLUNV4QPbP6oyp6B7lNy/yhtyHKkg0L9Y/dRfqSDZP3z11csSBdW/yQsBeruV4T/DinB6mvviP5vh7L0GoNo//v//////7z8/hjXUi+DjPzADqmQ+Vtm/vBRQWwpY4j8hpBUEu5a6P6oyp6B7lNw/e5tFDt/stj/2gYhZaOHnv8rOnnLrMsi/medXagwM57+tgZzo2CbSP82pmQq1G8C/KXZiJ3Zi5z+tR8J2gejlv4G1i1LH5WC8ZkfTbKKr2b97xxJ25cLYPyvEo5isoN+/ADJ90TNW4L9ZQ4WIw0jiP5QnPdtw+tg/XN2ywK6+pD/7LECGse3lv7aZJ/z65OG/ecHKcg3B5T/BpD9GsNflP7eZJ/z65NG/0/ia+2dz5L/9CbyGrM3fv4pK6UNjJsU/HdEVPFB63T98IzN/Olvav5UfSGAMRNm/WuooPLn73j8noeJ/qDjiv5YfSGAMROk/7bGMCDGD4j8hyxaSjjzPPz+GNdSL4OM/AwAAAAAA8D9xMgpZD3PivzDEo5isoN8/kbmOVRn0tL98IzN/OlvaP+B1ALDKFKY/gW4ABX6z5L/ddQCwyhTWv21ij+rzluA/nlFJ83z03L863KHRr+yrv8qCwmXIFeW/rrwm2OeD4z+6rhh9ARm7vyv+g/EH2t4/Nwqb1aHT3b/JMGV/DFPmPzN1476UONI/VIAl3YzZ5b+DI/pBMLfQv2GM4hDNc7G/gY6XYGXN5T/xsJZTNPLlP3QxqcUnI+a/1ukYUrXN4L9C5+6iBSvXP6jUI2y25uc/UJ7N738u5T/A3tX/2orPv0HbdG8Bp+W/7na73W632z+LwnY4QRHSP9aGZkwTe9e/7Zw8SIVA5T+3H9pc1drjv1WcIhOZN+K/2gdmJNIdwr8wA6pkPlbZv3EyClkPc+K/AAAAAAAA8D/tqAe3jnrgv/qU4L3MO7U/7na73W63278dl53vL4i1P+aV1jIv8uI/oSsPBZ9V6j/WRt9YsEbev98nmtMHQeE/G+dOU3Zh1r97IzN/OlvqPxZWqLhlRua/6UgtRJrEwz+i68u1Oiu9v2H1O0+gTcg/k+IKHymu4L8uzKx2lPfav7Bnf1GY9OA/hCP6QTC30D9hjOIQzXOxP4COl2BlzeW/2jXy2CN4279pXD/5DvbgPxQoyeEUjuM/otc1Fu8O4b+o1CNstubnv1Ceze9/LuW/qUtTVqaL0z9D23RvAaflP5PiCh8pruC/hPft9Bs15b/WhmZME3vXPwSw+eLD2+O/HHCyLEgm4T+qT+4pxIDnPzHWcxhBEuE/vBRQWwpY4j8wxKOYrKDfP+2oB7eOeuC/AgAAAAAA8D/QwnJfLKO3P5PiCh8pruA/FA3vu0jjgD/mldYyL/Liv4XeAgOlBt2/iRLIsJtBxr9n6slmA/PQv3/CwRfuPeG/k7mOVRn0xL/H1XeFSM6yP8Hoz6uPY+A/bPLlOlwRtD/Nv759uvS1vwNUbDTbP6+/MiA9vw1ioT+XXO22EMubP8Oit/rGP8m/2GI++BA62T9bx5+RMlW9v0ey0945m9c/VyjUZhFi3L/pEFat0UPGv6OpBxSyOso/pKkHFLI6yj+K58oOv4vEP3EJVOKQutu/Oy6Oul80yb9X93BvP7/dP/wSukLbtMC/0zMuVEKX4D/pr7vZK9rPP6zC7preh9K/xzs3BEskz79LiECpWZ6gvyGkFQS7lro/kbmOVRn0tL/6lOC9zDu1P9DCcl8so7c/+///////7z9X93BvP7/dv8YYtyjhuuC/G6DX68Ggvj9zIVUluIecP5yVl2M2+9W/5kvdvTHX4j90hhSlv3rCv8iCwmXIFeU/eXMwXzmA5L81s56MwBjNv+waVtI384G/YvU7T6BNyD/BKuK9qyLev3B2uojUx8i/5vqSD58w1z/0fgTQmmHgP2CM4hDNc7G//tExq46H37+k1CNstubnv5WxMrdB6+M/al6ywVRX5D/wScZkj1Dnv/BJxmSPUOe/DzbMjZ7N5r+7geconkDnP+Cc+ne5COk/AAAAAAAA8L8JDxhi2JHav8xQ7fNFY8M/ArD54sPb47++ZluRBrLiP3kRiN10v+Y/hLtxudewxz+qMqege5TcP3wjM386W9o/7na73W6327+T4gofKa7gP1f3cG8/v92/AAAAAAAA8D/XGHla0aHDP6ahYNG3sOW/h8qlm9a8079wQur+JczLP1g8vHA2sdI/8KHOs5BfyT/gdQCwyhS2P6AqqzLSg8A/R2o6LkBU0b/DbsGwip/BPyUieSfhw6u/kjhgYCiqvz86e2NiVHq7P09tXF/tQ66/6NVqOSFohr9aPLxwNrHSv1UV0lIlKrs/cGA/BPwSvb+VrUSj20O8P/SzrqO+/as/B/lVSCs1Wj/U6Y05L8CnPwiK/khcQcI/MP6vw7osxT99/7HZ173Lv9cYeVrRocO/Fq6uZiKnxT/bH49mHRrdv2Oxxrf5RLo/2J78R2YwgD/8wblhQNe+P+DU9xiDyNA/e5tFDt/stj/gdQCwyhSmPx2Xne8viLU/FA3vu0jjgD/GGLco4brgv9cYeVrRocM/AAAAAAAA8D/AF27tjdWPv9a0DQuNq9Q/rg1BH1oc4z/napVjptTbv00piWoatdI/3nUAsMoU5r92AKPR1rHsP8SE+TEGcsE/yqZlMygJ0T9gRmhMXTzfv6ahYNG3sOU/s9w2ffMU0z/RzuFg12Tmv50sNkNiG9e/U+CKuYWdsL8esMX6rLToP7nm2aJVbuA/TGI4jCnc5L+NP6CrV03lv8f9BbnPHeQ/R8zYMHHZ6T/BcCCPBGXmP9EmZPt1/Ni/ZB8R0zK15L+moWDRt7DlPw2T7pilKNY/4FM51pi14b8U9ydc8MvkP4hUdEusPum/TdgtX5PS57+eeRIBzqXOv/aBiFlo4ee/gW4ABX6z5L/mldYyL/LiP+aV1jIv8uK/G6DX68Ggvj+moWDRt7Dlv8AXbu2N1Y+/AAAAAAAA8D8i5FTAL9zaP8FfOE+7+tM/GQGBLi8z0L/6+OHhUdDMv2ZYAASYj+C/LwQSLdxg3z8d5hbOGz2+v9DCt/T2veA/BhbUxbeb2r+LMn2wJLziPypcXhaLItY/J3i6SRP64r+qMJhgJTW5vyhKn+78Pry/ol6cKnGC4D+35tmiVW7gPyTIDFHt4N6/qLkgNCJv1r/AKKpO6irUP8b9BbnPHeQ/kV+4xKDo5D9MVzrKuBTRv2YfEdMyteS/h8qlm9a80z8Nk+6YpSjWP/GXqyAJyda/AV+5Q1RW4z8NYlSy6v3Yv5PWCgLEgNm/YrHGt/lEur/Kzp5y6zLIv911ALDKFNa/oSsPBZ9V6j+F3gIDpQbdv3MhVSW4h5w/h8qlm9a807/WtA0LjavUPyLkVMAv3No/AAAAAAAA8D8=",
          "dtype": "f8",
          "shape": "38, 38"
         }
        }
       ],
       "layout": {
        "template": {
         "data": {
          "bar": [
           {
            "error_x": {
             "color": "#2a3f5f"
            },
            "error_y": {
             "color": "#2a3f5f"
            },
            "marker": {
             "line": {
              "color": "#E5ECF6",
              "width": 0.5
             },
             "pattern": {
              "fillmode": "overlay",
              "size": 10,
              "solidity": 0.2
             }
            },
            "type": "bar"
           }
          ],
          "barpolar": [
           {
            "marker": {
             "line": {
              "color": "#E5ECF6",
              "width": 0.5
             },
             "pattern": {
              "fillmode": "overlay",
              "size": 10,
              "solidity": 0.2
             }
            },
            "type": "barpolar"
           }
          ],
          "carpet": [
           {
            "aaxis": {
             "endlinecolor": "#2a3f5f",
             "gridcolor": "white",
             "linecolor": "white",
             "minorgridcolor": "white",
             "startlinecolor": "#2a3f5f"
            },
            "baxis": {
             "endlinecolor": "#2a3f5f",
             "gridcolor": "white",
             "linecolor": "white",
             "minorgridcolor": "white",
             "startlinecolor": "#2a3f5f"
            },
            "type": "carpet"
           }
          ],
          "choropleth": [
           {
            "colorbar": {
             "outlinewidth": 0,
             "ticks": ""
            },
            "type": "choropleth"
           }
          ],
          "contour": [
           {
            "colorbar": {
             "outlinewidth": 0,
             "ticks": ""
            },
            "colorscale": [
             [
              0,
              "#0d0887"
             ],
             [
              0.1111111111111111,
              "#46039f"
             ],
             [
              0.2222222222222222,
              "#7201a8"
             ],
             [
              0.3333333333333333,
              "#9c179e"
             ],
             [
              0.4444444444444444,
              "#bd3786"
             ],
             [
              0.5555555555555556,
              "#d8576b"
             ],
             [
              0.6666666666666666,
              "#ed7953"
             ],
             [
              0.7777777777777778,
              "#fb9f3a"
             ],
             [
              0.8888888888888888,
              "#fdca26"
             ],
             [
              1,
              "#f0f921"
             ]
            ],
            "type": "contour"
           }
          ],
          "contourcarpet": [
           {
            "colorbar": {
             "outlinewidth": 0,
             "ticks": ""
            },
            "type": "contourcarpet"
           }
          ],
          "heatmap": [
           {
            "colorbar": {
             "outlinewidth": 0,
             "ticks": ""
            },
            "colorscale": [
             [
              0,
              "#0d0887"
             ],
             [
              0.1111111111111111,
              "#46039f"
             ],
             [
              0.2222222222222222,
              "#7201a8"
             ],
             [
              0.3333333333333333,
              "#9c179e"
             ],
             [
              0.4444444444444444,
              "#bd3786"
             ],
             [
              0.5555555555555556,
              "#d8576b"
             ],
             [
              0.6666666666666666,
              "#ed7953"
             ],
             [
              0.7777777777777778,
              "#fb9f3a"
             ],
             [
              0.8888888888888888,
              "#fdca26"
             ],
             [
              1,
              "#f0f921"
             ]
            ],
            "type": "heatmap"
           }
          ],
          "histogram": [
           {
            "marker": {
             "pattern": {
              "fillmode": "overlay",
              "size": 10,
              "solidity": 0.2
             }
            },
            "type": "histogram"
           }
          ],
          "histogram2d": [
           {
            "colorbar": {
             "outlinewidth": 0,
             "ticks": ""
            },
            "colorscale": [
             [
              0,
              "#0d0887"
             ],
             [
              0.1111111111111111,
              "#46039f"
             ],
             [
              0.2222222222222222,
              "#7201a8"
             ],
             [
              0.3333333333333333,
              "#9c179e"
             ],
             [
              0.4444444444444444,
              "#bd3786"
             ],
             [
              0.5555555555555556,
              "#d8576b"
             ],
             [
              0.6666666666666666,
              "#ed7953"
             ],
             [
              0.7777777777777778,
              "#fb9f3a"
             ],
             [
              0.8888888888888888,
              "#fdca26"
             ],
             [
              1,
              "#f0f921"
             ]
            ],
            "type": "histogram2d"
           }
          ],
          "histogram2dcontour": [
           {
            "colorbar": {
             "outlinewidth": 0,
             "ticks": ""
            },
            "colorscale": [
             [
              0,
              "#0d0887"
             ],
             [
              0.1111111111111111,
              "#46039f"
             ],
             [
              0.2222222222222222,
              "#7201a8"
             ],
             [
              0.3333333333333333,
              "#9c179e"
             ],
             [
              0.4444444444444444,
              "#bd3786"
             ],
             [
              0.5555555555555556,
              "#d8576b"
             ],
             [
              0.6666666666666666,
              "#ed7953"
             ],
             [
              0.7777777777777778,
              "#fb9f3a"
             ],
             [
              0.8888888888888888,
              "#fdca26"
             ],
             [
              1,
              "#f0f921"
             ]
            ],
            "type": "histogram2dcontour"
           }
          ],
          "mesh3d": [
           {
            "colorbar": {
             "outlinewidth": 0,
             "ticks": ""
            },
            "type": "mesh3d"
           }
          ],
          "parcoords": [
           {
            "line": {
             "colorbar": {
              "outlinewidth": 0,
              "ticks": ""
             }
            },
            "type": "parcoords"
           }
          ],
          "pie": [
           {
            "automargin": true,
            "type": "pie"
           }
          ],
          "scatter": [
           {
            "fillpattern": {
             "fillmode": "overlay",
             "size": 10,
             "solidity": 0.2
            },
            "type": "scatter"
           }
          ],
          "scatter3d": [
           {
            "line": {
             "colorbar": {
              "outlinewidth": 0,
              "ticks": ""
             }
            },
            "marker": {
             "colorbar": {
              "outlinewidth": 0,
              "ticks": ""
             }
            },
            "type": "scatter3d"
           }
          ],
          "scattercarpet": [
           {
            "marker": {
             "colorbar": {
              "outlinewidth": 0,
              "ticks": ""
             }
            },
            "type": "scattercarpet"
           }
          ],
          "scattergeo": [
           {
            "marker": {
             "colorbar": {
              "outlinewidth": 0,
              "ticks": ""
             }
            },
            "type": "scattergeo"
           }
          ],
          "scattergl": [
           {
            "marker": {
             "colorbar": {
              "outlinewidth": 0,
              "ticks": ""
             }
            },
            "type": "scattergl"
           }
          ],
          "scattermap": [
           {
            "marker": {
             "colorbar": {
              "outlinewidth": 0,
              "ticks": ""
             }
            },
            "type": "scattermap"
           }
          ],
          "scattermapbox": [
           {
            "marker": {
             "colorbar": {
              "outlinewidth": 0,
              "ticks": ""
             }
            },
            "type": "scattermapbox"
           }
          ],
          "scatterpolar": [
           {
            "marker": {
             "colorbar": {
              "outlinewidth": 0,
              "ticks": ""
             }
            },
            "type": "scatterpolar"
           }
          ],
          "scatterpolargl": [
           {
            "marker": {
             "colorbar": {
              "outlinewidth": 0,
              "ticks": ""
             }
            },
            "type": "scatterpolargl"
           }
          ],
          "scatterternary": [
           {
            "marker": {
             "colorbar": {
              "outlinewidth": 0,
              "ticks": ""
             }
            },
            "type": "scatterternary"
           }
          ],
          "surface": [
           {
            "colorbar": {
             "outlinewidth": 0,
             "ticks": ""
            },
            "colorscale": [
             [
              0,
              "#0d0887"
             ],
             [
              0.1111111111111111,
              "#46039f"
             ],
             [
              0.2222222222222222,
              "#7201a8"
             ],
             [
              0.3333333333333333,
              "#9c179e"
             ],
             [
              0.4444444444444444,
              "#bd3786"
             ],
             [
              0.5555555555555556,
              "#d8576b"
             ],
             [
              0.6666666666666666,
              "#ed7953"
             ],
             [
              0.7777777777777778,
              "#fb9f3a"
             ],
             [
              0.8888888888888888,
              "#fdca26"
             ],
             [
              1,
              "#f0f921"
             ]
            ],
            "type": "surface"
           }
          ],
          "table": [
           {
            "cells": {
             "fill": {
              "color": "#EBF0F8"
             },
             "line": {
              "color": "white"
             }
            },
            "header": {
             "fill": {
              "color": "#C8D4E3"
             },
             "line": {
              "color": "white"
             }
            },
            "type": "table"
           }
          ]
         },
         "layout": {
          "annotationdefaults": {
           "arrowcolor": "#2a3f5f",
           "arrowhead": 0,
           "arrowwidth": 1
          },
          "autotypenumbers": "strict",
          "coloraxis": {
           "colorbar": {
            "outlinewidth": 0,
            "ticks": ""
           }
          },
          "colorscale": {
           "diverging": [
            [
             0,
             "#8e0152"
            ],
            [
             0.1,
             "#c51b7d"
            ],
            [
             0.2,
             "#de77ae"
            ],
            [
             0.3,
             "#f1b6da"
            ],
            [
             0.4,
             "#fde0ef"
            ],
            [
             0.5,
             "#f7f7f7"
            ],
            [
             0.6,
             "#e6f5d0"
            ],
            [
             0.7,
             "#b8e186"
            ],
            [
             0.8,
             "#7fbc41"
            ],
            [
             0.9,
             "#4d9221"
            ],
            [
             1,
             "#276419"
            ]
           ],
           "sequential": [
            [
             0,
             "#0d0887"
            ],
            [
             0.1111111111111111,
             "#46039f"
            ],
            [
             0.2222222222222222,
             "#7201a8"
            ],
            [
             0.3333333333333333,
             "#9c179e"
            ],
            [
             0.4444444444444444,
             "#bd3786"
            ],
            [
             0.5555555555555556,
             "#d8576b"
            ],
            [
             0.6666666666666666,
             "#ed7953"
            ],
            [
             0.7777777777777778,
             "#fb9f3a"
            ],
            [
             0.8888888888888888,
             "#fdca26"
            ],
            [
             1,
             "#f0f921"
            ]
           ],
           "sequentialminus": [
            [
             0,
             "#0d0887"
            ],
            [
             0.1111111111111111,
             "#46039f"
            ],
            [
             0.2222222222222222,
             "#7201a8"
            ],
            [
             0.3333333333333333,
             "#9c179e"
            ],
            [
             0.4444444444444444,
             "#bd3786"
            ],
            [
             0.5555555555555556,
             "#d8576b"
            ],
            [
             0.6666666666666666,
             "#ed7953"
            ],
            [
             0.7777777777777778,
             "#fb9f3a"
            ],
            [
             0.8888888888888888,
             "#fdca26"
            ],
            [
             1,
             "#f0f921"
            ]
           ]
          },
          "colorway": [
           "#636efa",
           "#EF553B",
           "#00cc96",
           "#ab63fa",
           "#FFA15A",
           "#19d3f3",
           "#FF6692",
           "#B6E880",
           "#FF97FF",
           "#FECB52"
          ],
          "font": {
           "color": "#2a3f5f"
          },
          "geo": {
           "bgcolor": "white",
           "lakecolor": "white",
           "landcolor": "#E5ECF6",
           "showlakes": true,
           "showland": true,
           "subunitcolor": "white"
          },
          "hoverlabel": {
           "align": "left"
          },
          "hovermode": "closest",
          "mapbox": {
           "style": "light"
          },
          "paper_bgcolor": "white",
          "plot_bgcolor": "#E5ECF6",
          "polar": {
           "angularaxis": {
            "gridcolor": "white",
            "linecolor": "white",
            "ticks": ""
           },
           "bgcolor": "#E5ECF6",
           "radialaxis": {
            "gridcolor": "white",
            "linecolor": "white",
            "ticks": ""
           }
          },
          "scene": {
           "xaxis": {
            "backgroundcolor": "#E5ECF6",
            "gridcolor": "white",
            "gridwidth": 2,
            "linecolor": "white",
            "showbackground": true,
            "ticks": "",
            "zerolinecolor": "white"
           },
           "yaxis": {
            "backgroundcolor": "#E5ECF6",
            "gridcolor": "white",
            "gridwidth": 2,
            "linecolor": "white",
            "showbackground": true,
            "ticks": "",
            "zerolinecolor": "white"
           },
           "zaxis": {
            "backgroundcolor": "#E5ECF6",
            "gridcolor": "white",
            "gridwidth": 2,
            "linecolor": "white",
            "showbackground": true,
            "ticks": "",
            "zerolinecolor": "white"
           }
          },
          "shapedefaults": {
           "line": {
            "color": "#2a3f5f"
           }
          },
          "ternary": {
           "aaxis": {
            "gridcolor": "white",
            "linecolor": "white",
            "ticks": ""
           },
           "baxis": {
            "gridcolor": "white",
            "linecolor": "white",
            "ticks": ""
           },
           "bgcolor": "#E5ECF6",
           "caxis": {
            "gridcolor": "white",
            "linecolor": "white",
            "ticks": ""
           }
          },
          "title": {
           "x": 0.05
          },
          "xaxis": {
           "automargin": true,
           "gridcolor": "white",
           "linecolor": "white",
           "ticks": "",
           "title": {
            "standoff": 15
           },
           "zerolinecolor": "white",
           "zerolinewidth": 2
          },
          "yaxis": {
           "automargin": true,
           "gridcolor": "white",
           "linecolor": "white",
           "ticks": "",
           "title": {
            "standoff": 15
           },
           "zerolinecolor": "white",
           "zerolinewidth": 2
          }
         }
        },
        "title": {
         "text": "Covariance Heatmap"
        }
       }
      }
     },
     "metadata": {},
     "output_type": "display_data"
    },
    {
     "data": {
      "application/vnd.plotly.v1+json": {
       "config": {
        "plotlyServerURL": "https://plot.ly"
       },
       "data": [
        {
         "colorscale": [
          [
           0,
           "#0d0887"
          ],
          [
           0.1111111111111111,
           "#46039f"
          ],
          [
           0.2222222222222222,
           "#7201a8"
          ],
          [
           0.3333333333333333,
           "#9c179e"
          ],
          [
           0.4444444444444444,
           "#bd3786"
          ],
          [
           0.5555555555555556,
           "#d8576b"
          ],
          [
           0.6666666666666666,
           "#ed7953"
          ],
          [
           0.7777777777777778,
           "#fb9f3a"
          ],
          [
           0.8888888888888888,
           "#fdca26"
          ],
          [
           1,
           "#f0f921"
          ]
         ],
         "type": "heatmap",
         "x": [
          "PC 1",
          "PC 2",
          "PC 3"
         ],
         "y": [
          "35-Stunden-Woche",
          "Abschaffung der Frauenquote",
          "Abschaffung von Zöllen",
          "Abweisung Asylsuchender",
          "Anhebung des Spitzensteuersatzes",
          "Anwerbung von Fachkräften",
          "Arbeitserlaubnis für Asylsuchende",
          "Automatisierte Gesichtserkennung",
          "Begrenzung der Mietpreise",
          "Ehrenamt",
          "Einschränkung des Streikrechts",
          "Elternabhängiges BAföG",
          "Energieintensive Unternehmen",
          "Erhöhung des Mindestlohns",
          "Erneuerbare Energien",
          "Fossile Brennstoffe",
          "Grundgesetz",
          "Kompetenzen in der Schulpolitik",
          "Kontrolle von Zulieferern",
          "Krankenkassen",
          "Nationale Währung",
          "Nutzung der Kernenergie",
          "Projekte gegen Rechtsextremismus",
          "Rente nach 40 Beitragsjahren",
          "Rüstungsexporte nach Israel",
          "Schiene vor Straße",
          "Schuldenbremse",
          "Schwangerschaftsabbruch nach Beratung",
          "Soziales Pflichtjahr",
          "Strafrecht für unter 14-Jährige",
          "Streichung des Bürgergelds",
          "Tempolimit auf Autobahnen",
          "Umlegung der Grundsteuer",
          "Unterstützung der Ukraine",
          "Verwerfen der Klimaziele",
          "Volksentscheide",
          "Zweite Staatsbürgerschaft",
          "Ökologische Landwirtschaft"
         ],
         "z": {
          "bdata": "tMJIU0lNxL+Ux5EVLQ3Kv89RcIeQhbI/HqR0nw4MwT94wqJ0Is/Fv0fXo/R8O86/lSPaxG1ror9erazi+1TAv3PeH5sRlNw/0BMcBUE/yz/2dKLVYfqWv+ZCVa96DYO/7zdueEMezL9zwi5vFLKyvzT82PNotaU/oBOdrYQ3g79lwiare6/TP+3U4ECitp4//BNaujmlt7/9cMHuP/6zv0cIWaUAKty/88Fz2mO4vT+rqcNY+uGvP3IV1d+Rp9U/8hFW+9T6xb80xPo1tSfAv8MnBpfInrM/eGFngGxWu79MW2tnpDHHv4v3jUai48+/bnSKpeWVxj8T3nKxBTHGP1oXtH+KmbY/O9uPWNdGvj+cOaOFecW2v2M9bDFGpsE/BXv79KUTRT95V2XRvaTFP9jCWR1Nd8m/Eaxy0XWbyL/eMC21XOTCv/zeAmR/NsI/PgJ1N6FPx78Q92/wH/TAP48DkvrxPLe/EIjKnA0/yT9xU+Stt4y9v4FV+i/4r7c/LLvkvTJkyD/dXazmRi2uv2gqTilY0ay/+ws+aWOKxL/OwpMe3uPCP4ZISCcRGb0/au6fWx9Wzb+JdbcI1mh5P6CtKtqVU52/q2uHNDoRy786gtRM1sKHvye9xmGkD7O/1B/6YMQSwD+VpvH58wPSv/E5P91SQ6C/um5gwFFGyj8yxsyj4zWhv3CkwoWbxY4/wiOzCWwFyL8+n1rBeB/MPyCjKVW3j7o/p4B3xanTwb88sRXP2YvAv91jc+y5i6y/oxEAVS27vT9owmdKgNfVP2lf92Pukba/ZmyzCXrnyb+JQ9sCucmHv7t8CF7aKLW/NYM//Ooeyj9trzGzKB+Xv9Q6kx/7SJI/wzitUXQiyj92904cvqi7vxxXHtIbLL6/V5QXdrl4sz/enRP6RTu1v6ae2YTHx56/hUPa+k9BxD9qWKA/niacP3TWkZPoCcm/006rCZEOxz+eESEQlsG2PwF5xHpTaaM/ko7GiTa7x7/sylPQK42zvxFAekslwMC/zDCO2ozNxz8LmbqDc5+uP7kIQ+JFo8O/n5i9YjAQp7/RN4+zE4PZP7kSRkjk28q/wiOzCWwFyD8+n1rBeB/MvyCjKVW3j7q/DGN1Tk60fL9K8j4nfSPTvyA69OolUIe/wqS35Su7yr9HYYo07yWYv9/ydpzrlrg/j//WSTgkw78Ler0TZ2m9v+B0Qsm6TMu/",
          "dtype": "f8",
          "shape": "38, 3"
         }
        }
       ],
       "layout": {
        "template": {
         "data": {
          "bar": [
           {
            "error_x": {
             "color": "#2a3f5f"
            },
            "error_y": {
             "color": "#2a3f5f"
            },
            "marker": {
             "line": {
              "color": "#E5ECF6",
              "width": 0.5
             },
             "pattern": {
              "fillmode": "overlay",
              "size": 10,
              "solidity": 0.2
             }
            },
            "type": "bar"
           }
          ],
          "barpolar": [
           {
            "marker": {
             "line": {
              "color": "#E5ECF6",
              "width": 0.5
             },
             "pattern": {
              "fillmode": "overlay",
              "size": 10,
              "solidity": 0.2
             }
            },
            "type": "barpolar"
           }
          ],
          "carpet": [
           {
            "aaxis": {
             "endlinecolor": "#2a3f5f",
             "gridcolor": "white",
             "linecolor": "white",
             "minorgridcolor": "white",
             "startlinecolor": "#2a3f5f"
            },
            "baxis": {
             "endlinecolor": "#2a3f5f",
             "gridcolor": "white",
             "linecolor": "white",
             "minorgridcolor": "white",
             "startlinecolor": "#2a3f5f"
            },
            "type": "carpet"
           }
          ],
          "choropleth": [
           {
            "colorbar": {
             "outlinewidth": 0,
             "ticks": ""
            },
            "type": "choropleth"
           }
          ],
          "contour": [
           {
            "colorbar": {
             "outlinewidth": 0,
             "ticks": ""
            },
            "colorscale": [
             [
              0,
              "#0d0887"
             ],
             [
              0.1111111111111111,
              "#46039f"
             ],
             [
              0.2222222222222222,
              "#7201a8"
             ],
             [
              0.3333333333333333,
              "#9c179e"
             ],
             [
              0.4444444444444444,
              "#bd3786"
             ],
             [
              0.5555555555555556,
              "#d8576b"
             ],
             [
              0.6666666666666666,
              "#ed7953"
             ],
             [
              0.7777777777777778,
              "#fb9f3a"
             ],
             [
              0.8888888888888888,
              "#fdca26"
             ],
             [
              1,
              "#f0f921"
             ]
            ],
            "type": "contour"
           }
          ],
          "contourcarpet": [
           {
            "colorbar": {
             "outlinewidth": 0,
             "ticks": ""
            },
            "type": "contourcarpet"
           }
          ],
          "heatmap": [
           {
            "colorbar": {
             "outlinewidth": 0,
             "ticks": ""
            },
            "colorscale": [
             [
              0,
              "#0d0887"
             ],
             [
              0.1111111111111111,
              "#46039f"
             ],
             [
              0.2222222222222222,
              "#7201a8"
             ],
             [
              0.3333333333333333,
              "#9c179e"
             ],
             [
              0.4444444444444444,
              "#bd3786"
             ],
             [
              0.5555555555555556,
              "#d8576b"
             ],
             [
              0.6666666666666666,
              "#ed7953"
             ],
             [
              0.7777777777777778,
              "#fb9f3a"
             ],
             [
              0.8888888888888888,
              "#fdca26"
             ],
             [
              1,
              "#f0f921"
             ]
            ],
            "type": "heatmap"
           }
          ],
          "histogram": [
           {
            "marker": {
             "pattern": {
              "fillmode": "overlay",
              "size": 10,
              "solidity": 0.2
             }
            },
            "type": "histogram"
           }
          ],
          "histogram2d": [
           {
            "colorbar": {
             "outlinewidth": 0,
             "ticks": ""
            },
            "colorscale": [
             [
              0,
              "#0d0887"
             ],
             [
              0.1111111111111111,
              "#46039f"
             ],
             [
              0.2222222222222222,
              "#7201a8"
             ],
             [
              0.3333333333333333,
              "#9c179e"
             ],
             [
              0.4444444444444444,
              "#bd3786"
             ],
             [
              0.5555555555555556,
              "#d8576b"
             ],
             [
              0.6666666666666666,
              "#ed7953"
             ],
             [
              0.7777777777777778,
              "#fb9f3a"
             ],
             [
              0.8888888888888888,
              "#fdca26"
             ],
             [
              1,
              "#f0f921"
             ]
            ],
            "type": "histogram2d"
           }
          ],
          "histogram2dcontour": [
           {
            "colorbar": {
             "outlinewidth": 0,
             "ticks": ""
            },
            "colorscale": [
             [
              0,
              "#0d0887"
             ],
             [
              0.1111111111111111,
              "#46039f"
             ],
             [
              0.2222222222222222,
              "#7201a8"
             ],
             [
              0.3333333333333333,
              "#9c179e"
             ],
             [
              0.4444444444444444,
              "#bd3786"
             ],
             [
              0.5555555555555556,
              "#d8576b"
             ],
             [
              0.6666666666666666,
              "#ed7953"
             ],
             [
              0.7777777777777778,
              "#fb9f3a"
             ],
             [
              0.8888888888888888,
              "#fdca26"
             ],
             [
              1,
              "#f0f921"
             ]
            ],
            "type": "histogram2dcontour"
           }
          ],
          "mesh3d": [
           {
            "colorbar": {
             "outlinewidth": 0,
             "ticks": ""
            },
            "type": "mesh3d"
           }
          ],
          "parcoords": [
           {
            "line": {
             "colorbar": {
              "outlinewidth": 0,
              "ticks": ""
             }
            },
            "type": "parcoords"
           }
          ],
          "pie": [
           {
            "automargin": true,
            "type": "pie"
           }
          ],
          "scatter": [
           {
            "fillpattern": {
             "fillmode": "overlay",
             "size": 10,
             "solidity": 0.2
            },
            "type": "scatter"
           }
          ],
          "scatter3d": [
           {
            "line": {
             "colorbar": {
              "outlinewidth": 0,
              "ticks": ""
             }
            },
            "marker": {
             "colorbar": {
              "outlinewidth": 0,
              "ticks": ""
             }
            },
            "type": "scatter3d"
           }
          ],
          "scattercarpet": [
           {
            "marker": {
             "colorbar": {
              "outlinewidth": 0,
              "ticks": ""
             }
            },
            "type": "scattercarpet"
           }
          ],
          "scattergeo": [
           {
            "marker": {
             "colorbar": {
              "outlinewidth": 0,
              "ticks": ""
             }
            },
            "type": "scattergeo"
           }
          ],
          "scattergl": [
           {
            "marker": {
             "colorbar": {
              "outlinewidth": 0,
              "ticks": ""
             }
            },
            "type": "scattergl"
           }
          ],
          "scattermap": [
           {
            "marker": {
             "colorbar": {
              "outlinewidth": 0,
              "ticks": ""
             }
            },
            "type": "scattermap"
           }
          ],
          "scattermapbox": [
           {
            "marker": {
             "colorbar": {
              "outlinewidth": 0,
              "ticks": ""
             }
            },
            "type": "scattermapbox"
           }
          ],
          "scatterpolar": [
           {
            "marker": {
             "colorbar": {
              "outlinewidth": 0,
              "ticks": ""
             }
            },
            "type": "scatterpolar"
           }
          ],
          "scatterpolargl": [
           {
            "marker": {
             "colorbar": {
              "outlinewidth": 0,
              "ticks": ""
             }
            },
            "type": "scatterpolargl"
           }
          ],
          "scatterternary": [
           {
            "marker": {
             "colorbar": {
              "outlinewidth": 0,
              "ticks": ""
             }
            },
            "type": "scatterternary"
           }
          ],
          "surface": [
           {
            "colorbar": {
             "outlinewidth": 0,
             "ticks": ""
            },
            "colorscale": [
             [
              0,
              "#0d0887"
             ],
             [
              0.1111111111111111,
              "#46039f"
             ],
             [
              0.2222222222222222,
              "#7201a8"
             ],
             [
              0.3333333333333333,
              "#9c179e"
             ],
             [
              0.4444444444444444,
              "#bd3786"
             ],
             [
              0.5555555555555556,
              "#d8576b"
             ],
             [
              0.6666666666666666,
              "#ed7953"
             ],
             [
              0.7777777777777778,
              "#fb9f3a"
             ],
             [
              0.8888888888888888,
              "#fdca26"
             ],
             [
              1,
              "#f0f921"
             ]
            ],
            "type": "surface"
           }
          ],
          "table": [
           {
            "cells": {
             "fill": {
              "color": "#EBF0F8"
             },
             "line": {
              "color": "white"
             }
            },
            "header": {
             "fill": {
              "color": "#C8D4E3"
             },
             "line": {
              "color": "white"
             }
            },
            "type": "table"
           }
          ]
         },
         "layout": {
          "annotationdefaults": {
           "arrowcolor": "#2a3f5f",
           "arrowhead": 0,
           "arrowwidth": 1
          },
          "autotypenumbers": "strict",
          "coloraxis": {
           "colorbar": {
            "outlinewidth": 0,
            "ticks": ""
           }
          },
          "colorscale": {
           "diverging": [
            [
             0,
             "#8e0152"
            ],
            [
             0.1,
             "#c51b7d"
            ],
            [
             0.2,
             "#de77ae"
            ],
            [
             0.3,
             "#f1b6da"
            ],
            [
             0.4,
             "#fde0ef"
            ],
            [
             0.5,
             "#f7f7f7"
            ],
            [
             0.6,
             "#e6f5d0"
            ],
            [
             0.7,
             "#b8e186"
            ],
            [
             0.8,
             "#7fbc41"
            ],
            [
             0.9,
             "#4d9221"
            ],
            [
             1,
             "#276419"
            ]
           ],
           "sequential": [
            [
             0,
             "#0d0887"
            ],
            [
             0.1111111111111111,
             "#46039f"
            ],
            [
             0.2222222222222222,
             "#7201a8"
            ],
            [
             0.3333333333333333,
             "#9c179e"
            ],
            [
             0.4444444444444444,
             "#bd3786"
            ],
            [
             0.5555555555555556,
             "#d8576b"
            ],
            [
             0.6666666666666666,
             "#ed7953"
            ],
            [
             0.7777777777777778,
             "#fb9f3a"
            ],
            [
             0.8888888888888888,
             "#fdca26"
            ],
            [
             1,
             "#f0f921"
            ]
           ],
           "sequentialminus": [
            [
             0,
             "#0d0887"
            ],
            [
             0.1111111111111111,
             "#46039f"
            ],
            [
             0.2222222222222222,
             "#7201a8"
            ],
            [
             0.3333333333333333,
             "#9c179e"
            ],
            [
             0.4444444444444444,
             "#bd3786"
            ],
            [
             0.5555555555555556,
             "#d8576b"
            ],
            [
             0.6666666666666666,
             "#ed7953"
            ],
            [
             0.7777777777777778,
             "#fb9f3a"
            ],
            [
             0.8888888888888888,
             "#fdca26"
            ],
            [
             1,
             "#f0f921"
            ]
           ]
          },
          "colorway": [
           "#636efa",
           "#EF553B",
           "#00cc96",
           "#ab63fa",
           "#FFA15A",
           "#19d3f3",
           "#FF6692",
           "#B6E880",
           "#FF97FF",
           "#FECB52"
          ],
          "font": {
           "color": "#2a3f5f"
          },
          "geo": {
           "bgcolor": "white",
           "lakecolor": "white",
           "landcolor": "#E5ECF6",
           "showlakes": true,
           "showland": true,
           "subunitcolor": "white"
          },
          "hoverlabel": {
           "align": "left"
          },
          "hovermode": "closest",
          "mapbox": {
           "style": "light"
          },
          "paper_bgcolor": "white",
          "plot_bgcolor": "#E5ECF6",
          "polar": {
           "angularaxis": {
            "gridcolor": "white",
            "linecolor": "white",
            "ticks": ""
           },
           "bgcolor": "#E5ECF6",
           "radialaxis": {
            "gridcolor": "white",
            "linecolor": "white",
            "ticks": ""
           }
          },
          "scene": {
           "xaxis": {
            "backgroundcolor": "#E5ECF6",
            "gridcolor": "white",
            "gridwidth": 2,
            "linecolor": "white",
            "showbackground": true,
            "ticks": "",
            "zerolinecolor": "white"
           },
           "yaxis": {
            "backgroundcolor": "#E5ECF6",
            "gridcolor": "white",
            "gridwidth": 2,
            "linecolor": "white",
            "showbackground": true,
            "ticks": "",
            "zerolinecolor": "white"
           },
           "zaxis": {
            "backgroundcolor": "#E5ECF6",
            "gridcolor": "white",
            "gridwidth": 2,
            "linecolor": "white",
            "showbackground": true,
            "ticks": "",
            "zerolinecolor": "white"
           }
          },
          "shapedefaults": {
           "line": {
            "color": "#2a3f5f"
           }
          },
          "ternary": {
           "aaxis": {
            "gridcolor": "white",
            "linecolor": "white",
            "ticks": ""
           },
           "baxis": {
            "gridcolor": "white",
            "linecolor": "white",
            "ticks": ""
           },
           "bgcolor": "#E5ECF6",
           "caxis": {
            "gridcolor": "white",
            "linecolor": "white",
            "ticks": ""
           }
          },
          "title": {
           "x": 0.05
          },
          "xaxis": {
           "automargin": true,
           "gridcolor": "white",
           "linecolor": "white",
           "ticks": "",
           "title": {
            "standoff": 15
           },
           "zerolinecolor": "white",
           "zerolinewidth": 2
          },
          "yaxis": {
           "automargin": true,
           "gridcolor": "white",
           "linecolor": "white",
           "ticks": "",
           "title": {
            "standoff": 15
           },
           "zerolinecolor": "white",
           "zerolinewidth": 2
          }
         }
        },
        "title": {
         "text": "Principal Components"
        }
       }
      }
     },
     "metadata": {},
     "output_type": "display_data"
    },
    {
     "data": {
      "application/vnd.plotly.v1+json": {
       "config": {
        "plotlyServerURL": "https://plot.ly"
       },
       "data": [
        {
         "marker": {
          "color": [
           "black",
           "black",
           "black",
           "black",
           "black",
           "black",
           "black",
           "black",
           "black",
           "black",
           "black",
           "black",
           "black",
           "black",
           "black",
           "black",
           "black",
           "black",
           "black",
           "black",
           "black",
           "black",
           "black",
           "black",
           "black",
           "black",
           "black",
           "black"
          ]
         },
         "mode": "markers+text",
         "text": [
          "AfD",
          "BP",
          "BSW",
          "BÜNDNIS DEUTSCHLAND",
          "BüSo",
          "Bündnis C",
          "CDU / CSU",
          "Die Gerechtigkeitspartei - Team Todenhöfer",
          "Die Linke",
          "Die PARTEI",
          "FDP",
          "FREIE WÄHLER",
          "GRÜNE",
          "MENSCHLICHE WELT",
          "MERA25",
          "MLPD",
          "PIRATEN",
          "PdF",
          "PdH",
          "SGP",
          "SPD",
          "SSW",
          "Tierschutzpartei",
          "Verjüngungsforschung",
          "Volt",
          "WerteUnion",
          "dieBasis",
          "ÖDP"
         ],
         "textposition": "top center",
         "type": "scatter",
         "x": {
          "bdata": "i7wlewxZHEB2d/oz/UoWQDS47VEMvOW/8coOr5+iGUCa3mEUJ4AGQD1btQqaoRZAzPSRRmQBFEA8DfTG12T2v8foMT/3OxLA6EUlEKvDEcCx1q+bQmEOQN2zaOJUnghAfjiGiRZAC8DedyKOmcYIQCmw4urTMRLA1DwIbh6tD8Bojfeir+gOwJKCK8+Lc/m/f1QT7YxJ/r/l3TLtJegPwMtV2Fgh7wXA7Edz2bknEMDoo/jUmnQSwEjmlOZ8efg/k1DzqkI7EsACAQmejrcXQCIJHtUhoANAOLArpmImAcA=",
          "dtype": "f8"
         },
         "y": [
          0,
          0,
          0,
          0,
          0,
          0,
          0,
          0,
          0,
          0,
          0,
          0,
          0,
          0,
          0,
          0,
          0,
          0,
          0,
          0,
          0,
          0,
          0,
          0,
          0,
          0,
          0,
          0
         ]
        }
       ],
       "layout": {
        "template": {
         "data": {
          "bar": [
           {
            "error_x": {
             "color": "#2a3f5f"
            },
            "error_y": {
             "color": "#2a3f5f"
            },
            "marker": {
             "line": {
              "color": "#E5ECF6",
              "width": 0.5
             },
             "pattern": {
              "fillmode": "overlay",
              "size": 10,
              "solidity": 0.2
             }
            },
            "type": "bar"
           }
          ],
          "barpolar": [
           {
            "marker": {
             "line": {
              "color": "#E5ECF6",
              "width": 0.5
             },
             "pattern": {
              "fillmode": "overlay",
              "size": 10,
              "solidity": 0.2
             }
            },
            "type": "barpolar"
           }
          ],
          "carpet": [
           {
            "aaxis": {
             "endlinecolor": "#2a3f5f",
             "gridcolor": "white",
             "linecolor": "white",
             "minorgridcolor": "white",
             "startlinecolor": "#2a3f5f"
            },
            "baxis": {
             "endlinecolor": "#2a3f5f",
             "gridcolor": "white",
             "linecolor": "white",
             "minorgridcolor": "white",
             "startlinecolor": "#2a3f5f"
            },
            "type": "carpet"
           }
          ],
          "choropleth": [
           {
            "colorbar": {
             "outlinewidth": 0,
             "ticks": ""
            },
            "type": "choropleth"
           }
          ],
          "contour": [
           {
            "colorbar": {
             "outlinewidth": 0,
             "ticks": ""
            },
            "colorscale": [
             [
              0,
              "#0d0887"
             ],
             [
              0.1111111111111111,
              "#46039f"
             ],
             [
              0.2222222222222222,
              "#7201a8"
             ],
             [
              0.3333333333333333,
              "#9c179e"
             ],
             [
              0.4444444444444444,
              "#bd3786"
             ],
             [
              0.5555555555555556,
              "#d8576b"
             ],
             [
              0.6666666666666666,
              "#ed7953"
             ],
             [
              0.7777777777777778,
              "#fb9f3a"
             ],
             [
              0.8888888888888888,
              "#fdca26"
             ],
             [
              1,
              "#f0f921"
             ]
            ],
            "type": "contour"
           }
          ],
          "contourcarpet": [
           {
            "colorbar": {
             "outlinewidth": 0,
             "ticks": ""
            },
            "type": "contourcarpet"
           }
          ],
          "heatmap": [
           {
            "colorbar": {
             "outlinewidth": 0,
             "ticks": ""
            },
            "colorscale": [
             [
              0,
              "#0d0887"
             ],
             [
              0.1111111111111111,
              "#46039f"
             ],
             [
              0.2222222222222222,
              "#7201a8"
             ],
             [
              0.3333333333333333,
              "#9c179e"
             ],
             [
              0.4444444444444444,
              "#bd3786"
             ],
             [
              0.5555555555555556,
              "#d8576b"
             ],
             [
              0.6666666666666666,
              "#ed7953"
             ],
             [
              0.7777777777777778,
              "#fb9f3a"
             ],
             [
              0.8888888888888888,
              "#fdca26"
             ],
             [
              1,
              "#f0f921"
             ]
            ],
            "type": "heatmap"
           }
          ],
          "histogram": [
           {
            "marker": {
             "pattern": {
              "fillmode": "overlay",
              "size": 10,
              "solidity": 0.2
             }
            },
            "type": "histogram"
           }
          ],
          "histogram2d": [
           {
            "colorbar": {
             "outlinewidth": 0,
             "ticks": ""
            },
            "colorscale": [
             [
              0,
              "#0d0887"
             ],
             [
              0.1111111111111111,
              "#46039f"
             ],
             [
              0.2222222222222222,
              "#7201a8"
             ],
             [
              0.3333333333333333,
              "#9c179e"
             ],
             [
              0.4444444444444444,
              "#bd3786"
             ],
             [
              0.5555555555555556,
              "#d8576b"
             ],
             [
              0.6666666666666666,
              "#ed7953"
             ],
             [
              0.7777777777777778,
              "#fb9f3a"
             ],
             [
              0.8888888888888888,
              "#fdca26"
             ],
             [
              1,
              "#f0f921"
             ]
            ],
            "type": "histogram2d"
           }
          ],
          "histogram2dcontour": [
           {
            "colorbar": {
             "outlinewidth": 0,
             "ticks": ""
            },
            "colorscale": [
             [
              0,
              "#0d0887"
             ],
             [
              0.1111111111111111,
              "#46039f"
             ],
             [
              0.2222222222222222,
              "#7201a8"
             ],
             [
              0.3333333333333333,
              "#9c179e"
             ],
             [
              0.4444444444444444,
              "#bd3786"
             ],
             [
              0.5555555555555556,
              "#d8576b"
             ],
             [
              0.6666666666666666,
              "#ed7953"
             ],
             [
              0.7777777777777778,
              "#fb9f3a"
             ],
             [
              0.8888888888888888,
              "#fdca26"
             ],
             [
              1,
              "#f0f921"
             ]
            ],
            "type": "histogram2dcontour"
           }
          ],
          "mesh3d": [
           {
            "colorbar": {
             "outlinewidth": 0,
             "ticks": ""
            },
            "type": "mesh3d"
           }
          ],
          "parcoords": [
           {
            "line": {
             "colorbar": {
              "outlinewidth": 0,
              "ticks": ""
             }
            },
            "type": "parcoords"
           }
          ],
          "pie": [
           {
            "automargin": true,
            "type": "pie"
           }
          ],
          "scatter": [
           {
            "fillpattern": {
             "fillmode": "overlay",
             "size": 10,
             "solidity": 0.2
            },
            "type": "scatter"
           }
          ],
          "scatter3d": [
           {
            "line": {
             "colorbar": {
              "outlinewidth": 0,
              "ticks": ""
             }
            },
            "marker": {
             "colorbar": {
              "outlinewidth": 0,
              "ticks": ""
             }
            },
            "type": "scatter3d"
           }
          ],
          "scattercarpet": [
           {
            "marker": {
             "colorbar": {
              "outlinewidth": 0,
              "ticks": ""
             }
            },
            "type": "scattercarpet"
           }
          ],
          "scattergeo": [
           {
            "marker": {
             "colorbar": {
              "outlinewidth": 0,
              "ticks": ""
             }
            },
            "type": "scattergeo"
           }
          ],
          "scattergl": [
           {
            "marker": {
             "colorbar": {
              "outlinewidth": 0,
              "ticks": ""
             }
            },
            "type": "scattergl"
           }
          ],
          "scattermap": [
           {
            "marker": {
             "colorbar": {
              "outlinewidth": 0,
              "ticks": ""
             }
            },
            "type": "scattermap"
           }
          ],
          "scattermapbox": [
           {
            "marker": {
             "colorbar": {
              "outlinewidth": 0,
              "ticks": ""
             }
            },
            "type": "scattermapbox"
           }
          ],
          "scatterpolar": [
           {
            "marker": {
             "colorbar": {
              "outlinewidth": 0,
              "ticks": ""
             }
            },
            "type": "scatterpolar"
           }
          ],
          "scatterpolargl": [
           {
            "marker": {
             "colorbar": {
              "outlinewidth": 0,
              "ticks": ""
             }
            },
            "type": "scatterpolargl"
           }
          ],
          "scatterternary": [
           {
            "marker": {
             "colorbar": {
              "outlinewidth": 0,
              "ticks": ""
             }
            },
            "type": "scatterternary"
           }
          ],
          "surface": [
           {
            "colorbar": {
             "outlinewidth": 0,
             "ticks": ""
            },
            "colorscale": [
             [
              0,
              "#0d0887"
             ],
             [
              0.1111111111111111,
              "#46039f"
             ],
             [
              0.2222222222222222,
              "#7201a8"
             ],
             [
              0.3333333333333333,
              "#9c179e"
             ],
             [
              0.4444444444444444,
              "#bd3786"
             ],
             [
              0.5555555555555556,
              "#d8576b"
             ],
             [
              0.6666666666666666,
              "#ed7953"
             ],
             [
              0.7777777777777778,
              "#fb9f3a"
             ],
             [
              0.8888888888888888,
              "#fdca26"
             ],
             [
              1,
              "#f0f921"
             ]
            ],
            "type": "surface"
           }
          ],
          "table": [
           {
            "cells": {
             "fill": {
              "color": "#EBF0F8"
             },
             "line": {
              "color": "white"
             }
            },
            "header": {
             "fill": {
              "color": "#C8D4E3"
             },
             "line": {
              "color": "white"
             }
            },
            "type": "table"
           }
          ]
         },
         "layout": {
          "annotationdefaults": {
           "arrowcolor": "#2a3f5f",
           "arrowhead": 0,
           "arrowwidth": 1
          },
          "autotypenumbers": "strict",
          "coloraxis": {
           "colorbar": {
            "outlinewidth": 0,
            "ticks": ""
           }
          },
          "colorscale": {
           "diverging": [
            [
             0,
             "#8e0152"
            ],
            [
             0.1,
             "#c51b7d"
            ],
            [
             0.2,
             "#de77ae"
            ],
            [
             0.3,
             "#f1b6da"
            ],
            [
             0.4,
             "#fde0ef"
            ],
            [
             0.5,
             "#f7f7f7"
            ],
            [
             0.6,
             "#e6f5d0"
            ],
            [
             0.7,
             "#b8e186"
            ],
            [
             0.8,
             "#7fbc41"
            ],
            [
             0.9,
             "#4d9221"
            ],
            [
             1,
             "#276419"
            ]
           ],
           "sequential": [
            [
             0,
             "#0d0887"
            ],
            [
             0.1111111111111111,
             "#46039f"
            ],
            [
             0.2222222222222222,
             "#7201a8"
            ],
            [
             0.3333333333333333,
             "#9c179e"
            ],
            [
             0.4444444444444444,
             "#bd3786"
            ],
            [
             0.5555555555555556,
             "#d8576b"
            ],
            [
             0.6666666666666666,
             "#ed7953"
            ],
            [
             0.7777777777777778,
             "#fb9f3a"
            ],
            [
             0.8888888888888888,
             "#fdca26"
            ],
            [
             1,
             "#f0f921"
            ]
           ],
           "sequentialminus": [
            [
             0,
             "#0d0887"
            ],
            [
             0.1111111111111111,
             "#46039f"
            ],
            [
             0.2222222222222222,
             "#7201a8"
            ],
            [
             0.3333333333333333,
             "#9c179e"
            ],
            [
             0.4444444444444444,
             "#bd3786"
            ],
            [
             0.5555555555555556,
             "#d8576b"
            ],
            [
             0.6666666666666666,
             "#ed7953"
            ],
            [
             0.7777777777777778,
             "#fb9f3a"
            ],
            [
             0.8888888888888888,
             "#fdca26"
            ],
            [
             1,
             "#f0f921"
            ]
           ]
          },
          "colorway": [
           "#636efa",
           "#EF553B",
           "#00cc96",
           "#ab63fa",
           "#FFA15A",
           "#19d3f3",
           "#FF6692",
           "#B6E880",
           "#FF97FF",
           "#FECB52"
          ],
          "font": {
           "color": "#2a3f5f"
          },
          "geo": {
           "bgcolor": "white",
           "lakecolor": "white",
           "landcolor": "#E5ECF6",
           "showlakes": true,
           "showland": true,
           "subunitcolor": "white"
          },
          "hoverlabel": {
           "align": "left"
          },
          "hovermode": "closest",
          "mapbox": {
           "style": "light"
          },
          "paper_bgcolor": "white",
          "plot_bgcolor": "#E5ECF6",
          "polar": {
           "angularaxis": {
            "gridcolor": "white",
            "linecolor": "white",
            "ticks": ""
           },
           "bgcolor": "#E5ECF6",
           "radialaxis": {
            "gridcolor": "white",
            "linecolor": "white",
            "ticks": ""
           }
          },
          "scene": {
           "xaxis": {
            "backgroundcolor": "#E5ECF6",
            "gridcolor": "white",
            "gridwidth": 2,
            "linecolor": "white",
            "showbackground": true,
            "ticks": "",
            "zerolinecolor": "white"
           },
           "yaxis": {
            "backgroundcolor": "#E5ECF6",
            "gridcolor": "white",
            "gridwidth": 2,
            "linecolor": "white",
            "showbackground": true,
            "ticks": "",
            "zerolinecolor": "white"
           },
           "zaxis": {
            "backgroundcolor": "#E5ECF6",
            "gridcolor": "white",
            "gridwidth": 2,
            "linecolor": "white",
            "showbackground": true,
            "ticks": "",
            "zerolinecolor": "white"
           }
          },
          "shapedefaults": {
           "line": {
            "color": "#2a3f5f"
           }
          },
          "ternary": {
           "aaxis": {
            "gridcolor": "white",
            "linecolor": "white",
            "ticks": ""
           },
           "baxis": {
            "gridcolor": "white",
            "linecolor": "white",
            "ticks": ""
           },
           "bgcolor": "#E5ECF6",
           "caxis": {
            "gridcolor": "white",
            "linecolor": "white",
            "ticks": ""
           }
          },
          "title": {
           "x": 0.05
          },
          "xaxis": {
           "automargin": true,
           "gridcolor": "white",
           "linecolor": "white",
           "ticks": "",
           "title": {
            "standoff": 15
           },
           "zerolinecolor": "white",
           "zerolinewidth": 2
          },
          "yaxis": {
           "automargin": true,
           "gridcolor": "white",
           "linecolor": "white",
           "ticks": "",
           "title": {
            "standoff": 15
           },
           "zerolinecolor": "white",
           "zerolinewidth": 2
          }
         }
        },
        "title": {
         "text": "PCA 1D"
        }
       }
      }
     },
     "metadata": {},
     "output_type": "display_data"
    },
    {
     "data": {
      "application/vnd.plotly.v1+json": {
       "config": {
        "plotlyServerURL": "https://plot.ly"
       },
       "data": [
        {
         "marker": {
          "color": [
           "black",
           "black",
           "black",
           "black",
           "black",
           "black",
           "black",
           "black",
           "black",
           "black",
           "black",
           "black",
           "black",
           "black",
           "black",
           "black",
           "black",
           "black",
           "black",
           "black",
           "black",
           "black",
           "black",
           "black",
           "black",
           "black",
           "black",
           "black"
          ]
         },
         "mode": "markers+text",
         "text": [
          "AfD",
          "BP",
          "BSW",
          "BÜNDNIS DEUTSCHLAND",
          "BüSo",
          "Bündnis C",
          "CDU / CSU",
          "Die Gerechtigkeitspartei - Team Todenhöfer",
          "Die Linke",
          "Die PARTEI",
          "FDP",
          "FREIE WÄHLER",
          "GRÜNE",
          "MENSCHLICHE WELT",
          "MERA25",
          "MLPD",
          "PIRATEN",
          "PdF",
          "PdH",
          "SGP",
          "SPD",
          "SSW",
          "Tierschutzpartei",
          "Verjüngungsforschung",
          "Volt",
          "WerteUnion",
          "dieBasis",
          "ÖDP"
         ],
         "textposition": "top center",
         "type": "scatter",
         "x": {
          "bdata": "i7wlewxZHEB2d/oz/UoWQDS47VEMvOW/8coOr5+iGUCa3mEUJ4AGQD1btQqaoRZAzPSRRmQBFEA8DfTG12T2v8foMT/3OxLA6EUlEKvDEcCx1q+bQmEOQN2zaOJUnghAfjiGiRZAC8DedyKOmcYIQCmw4urTMRLA1DwIbh6tD8Bojfeir+gOwJKCK8+Lc/m/f1QT7YxJ/r/l3TLtJegPwMtV2Fgh7wXA7Edz2bknEMDoo/jUmnQSwEjmlOZ8efg/k1DzqkI7EsACAQmejrcXQCIJHtUhoANAOLArpmImAcA=",
          "dtype": "f8"
         },
         "y": {
          "bdata": "vO7MJRVQ9L8K3L+0+n2iP6RzYP8GJvK/aoOhHiFp6D+70jTllo4MwEB2YxkJgP2/F2EJN7qsC0Cs4XJ79wP0v+L6+7qz6Om/vNnEm9LD1r9s99q+fogMQOBftTc47gNA/bfog2JxAUCQLmlhdvf8v+r+yKgarvi/WcxWUXkpBMDZTlWOp7XlPwDhbQHTcgFAb4h8qyzBAkDQ5dHBqr8CwAjmzM9bOwJALQTmOfMF+D9AnN0a/GnZP3k1dvzVvKk/o5esHp2O8z8sEaMkB+rUP9r5pK7H8Q7AbEdByiiL8r8=",
          "dtype": "f8"
         }
        }
       ],
       "layout": {
        "template": {
         "data": {
          "bar": [
           {
            "error_x": {
             "color": "#2a3f5f"
            },
            "error_y": {
             "color": "#2a3f5f"
            },
            "marker": {
             "line": {
              "color": "#E5ECF6",
              "width": 0.5
             },
             "pattern": {
              "fillmode": "overlay",
              "size": 10,
              "solidity": 0.2
             }
            },
            "type": "bar"
           }
          ],
          "barpolar": [
           {
            "marker": {
             "line": {
              "color": "#E5ECF6",
              "width": 0.5
             },
             "pattern": {
              "fillmode": "overlay",
              "size": 10,
              "solidity": 0.2
             }
            },
            "type": "barpolar"
           }
          ],
          "carpet": [
           {
            "aaxis": {
             "endlinecolor": "#2a3f5f",
             "gridcolor": "white",
             "linecolor": "white",
             "minorgridcolor": "white",
             "startlinecolor": "#2a3f5f"
            },
            "baxis": {
             "endlinecolor": "#2a3f5f",
             "gridcolor": "white",
             "linecolor": "white",
             "minorgridcolor": "white",
             "startlinecolor": "#2a3f5f"
            },
            "type": "carpet"
           }
          ],
          "choropleth": [
           {
            "colorbar": {
             "outlinewidth": 0,
             "ticks": ""
            },
            "type": "choropleth"
           }
          ],
          "contour": [
           {
            "colorbar": {
             "outlinewidth": 0,
             "ticks": ""
            },
            "colorscale": [
             [
              0,
              "#0d0887"
             ],
             [
              0.1111111111111111,
              "#46039f"
             ],
             [
              0.2222222222222222,
              "#7201a8"
             ],
             [
              0.3333333333333333,
              "#9c179e"
             ],
             [
              0.4444444444444444,
              "#bd3786"
             ],
             [
              0.5555555555555556,
              "#d8576b"
             ],
             [
              0.6666666666666666,
              "#ed7953"
             ],
             [
              0.7777777777777778,
              "#fb9f3a"
             ],
             [
              0.8888888888888888,
              "#fdca26"
             ],
             [
              1,
              "#f0f921"
             ]
            ],
            "type": "contour"
           }
          ],
          "contourcarpet": [
           {
            "colorbar": {
             "outlinewidth": 0,
             "ticks": ""
            },
            "type": "contourcarpet"
           }
          ],
          "heatmap": [
           {
            "colorbar": {
             "outlinewidth": 0,
             "ticks": ""
            },
            "colorscale": [
             [
              0,
              "#0d0887"
             ],
             [
              0.1111111111111111,
              "#46039f"
             ],
             [
              0.2222222222222222,
              "#7201a8"
             ],
             [
              0.3333333333333333,
              "#9c179e"
             ],
             [
              0.4444444444444444,
              "#bd3786"
             ],
             [
              0.5555555555555556,
              "#d8576b"
             ],
             [
              0.6666666666666666,
              "#ed7953"
             ],
             [
              0.7777777777777778,
              "#fb9f3a"
             ],
             [
              0.8888888888888888,
              "#fdca26"
             ],
             [
              1,
              "#f0f921"
             ]
            ],
            "type": "heatmap"
           }
          ],
          "histogram": [
           {
            "marker": {
             "pattern": {
              "fillmode": "overlay",
              "size": 10,
              "solidity": 0.2
             }
            },
            "type": "histogram"
           }
          ],
          "histogram2d": [
           {
            "colorbar": {
             "outlinewidth": 0,
             "ticks": ""
            },
            "colorscale": [
             [
              0,
              "#0d0887"
             ],
             [
              0.1111111111111111,
              "#46039f"
             ],
             [
              0.2222222222222222,
              "#7201a8"
             ],
             [
              0.3333333333333333,
              "#9c179e"
             ],
             [
              0.4444444444444444,
              "#bd3786"
             ],
             [
              0.5555555555555556,
              "#d8576b"
             ],
             [
              0.6666666666666666,
              "#ed7953"
             ],
             [
              0.7777777777777778,
              "#fb9f3a"
             ],
             [
              0.8888888888888888,
              "#fdca26"
             ],
             [
              1,
              "#f0f921"
             ]
            ],
            "type": "histogram2d"
           }
          ],
          "histogram2dcontour": [
           {
            "colorbar": {
             "outlinewidth": 0,
             "ticks": ""
            },
            "colorscale": [
             [
              0,
              "#0d0887"
             ],
             [
              0.1111111111111111,
              "#46039f"
             ],
             [
              0.2222222222222222,
              "#7201a8"
             ],
             [
              0.3333333333333333,
              "#9c179e"
             ],
             [
              0.4444444444444444,
              "#bd3786"
             ],
             [
              0.5555555555555556,
              "#d8576b"
             ],
             [
              0.6666666666666666,
              "#ed7953"
             ],
             [
              0.7777777777777778,
              "#fb9f3a"
             ],
             [
              0.8888888888888888,
              "#fdca26"
             ],
             [
              1,
              "#f0f921"
             ]
            ],
            "type": "histogram2dcontour"
           }
          ],
          "mesh3d": [
           {
            "colorbar": {
             "outlinewidth": 0,
             "ticks": ""
            },
            "type": "mesh3d"
           }
          ],
          "parcoords": [
           {
            "line": {
             "colorbar": {
              "outlinewidth": 0,
              "ticks": ""
             }
            },
            "type": "parcoords"
           }
          ],
          "pie": [
           {
            "automargin": true,
            "type": "pie"
           }
          ],
          "scatter": [
           {
            "fillpattern": {
             "fillmode": "overlay",
             "size": 10,
             "solidity": 0.2
            },
            "type": "scatter"
           }
          ],
          "scatter3d": [
           {
            "line": {
             "colorbar": {
              "outlinewidth": 0,
              "ticks": ""
             }
            },
            "marker": {
             "colorbar": {
              "outlinewidth": 0,
              "ticks": ""
             }
            },
            "type": "scatter3d"
           }
          ],
          "scattercarpet": [
           {
            "marker": {
             "colorbar": {
              "outlinewidth": 0,
              "ticks": ""
             }
            },
            "type": "scattercarpet"
           }
          ],
          "scattergeo": [
           {
            "marker": {
             "colorbar": {
              "outlinewidth": 0,
              "ticks": ""
             }
            },
            "type": "scattergeo"
           }
          ],
          "scattergl": [
           {
            "marker": {
             "colorbar": {
              "outlinewidth": 0,
              "ticks": ""
             }
            },
            "type": "scattergl"
           }
          ],
          "scattermap": [
           {
            "marker": {
             "colorbar": {
              "outlinewidth": 0,
              "ticks": ""
             }
            },
            "type": "scattermap"
           }
          ],
          "scattermapbox": [
           {
            "marker": {
             "colorbar": {
              "outlinewidth": 0,
              "ticks": ""
             }
            },
            "type": "scattermapbox"
           }
          ],
          "scatterpolar": [
           {
            "marker": {
             "colorbar": {
              "outlinewidth": 0,
              "ticks": ""
             }
            },
            "type": "scatterpolar"
           }
          ],
          "scatterpolargl": [
           {
            "marker": {
             "colorbar": {
              "outlinewidth": 0,
              "ticks": ""
             }
            },
            "type": "scatterpolargl"
           }
          ],
          "scatterternary": [
           {
            "marker": {
             "colorbar": {
              "outlinewidth": 0,
              "ticks": ""
             }
            },
            "type": "scatterternary"
           }
          ],
          "surface": [
           {
            "colorbar": {
             "outlinewidth": 0,
             "ticks": ""
            },
            "colorscale": [
             [
              0,
              "#0d0887"
             ],
             [
              0.1111111111111111,
              "#46039f"
             ],
             [
              0.2222222222222222,
              "#7201a8"
             ],
             [
              0.3333333333333333,
              "#9c179e"
             ],
             [
              0.4444444444444444,
              "#bd3786"
             ],
             [
              0.5555555555555556,
              "#d8576b"
             ],
             [
              0.6666666666666666,
              "#ed7953"
             ],
             [
              0.7777777777777778,
              "#fb9f3a"
             ],
             [
              0.8888888888888888,
              "#fdca26"
             ],
             [
              1,
              "#f0f921"
             ]
            ],
            "type": "surface"
           }
          ],
          "table": [
           {
            "cells": {
             "fill": {
              "color": "#EBF0F8"
             },
             "line": {
              "color": "white"
             }
            },
            "header": {
             "fill": {
              "color": "#C8D4E3"
             },
             "line": {
              "color": "white"
             }
            },
            "type": "table"
           }
          ]
         },
         "layout": {
          "annotationdefaults": {
           "arrowcolor": "#2a3f5f",
           "arrowhead": 0,
           "arrowwidth": 1
          },
          "autotypenumbers": "strict",
          "coloraxis": {
           "colorbar": {
            "outlinewidth": 0,
            "ticks": ""
           }
          },
          "colorscale": {
           "diverging": [
            [
             0,
             "#8e0152"
            ],
            [
             0.1,
             "#c51b7d"
            ],
            [
             0.2,
             "#de77ae"
            ],
            [
             0.3,
             "#f1b6da"
            ],
            [
             0.4,
             "#fde0ef"
            ],
            [
             0.5,
             "#f7f7f7"
            ],
            [
             0.6,
             "#e6f5d0"
            ],
            [
             0.7,
             "#b8e186"
            ],
            [
             0.8,
             "#7fbc41"
            ],
            [
             0.9,
             "#4d9221"
            ],
            [
             1,
             "#276419"
            ]
           ],
           "sequential": [
            [
             0,
             "#0d0887"
            ],
            [
             0.1111111111111111,
             "#46039f"
            ],
            [
             0.2222222222222222,
             "#7201a8"
            ],
            [
             0.3333333333333333,
             "#9c179e"
            ],
            [
             0.4444444444444444,
             "#bd3786"
            ],
            [
             0.5555555555555556,
             "#d8576b"
            ],
            [
             0.6666666666666666,
             "#ed7953"
            ],
            [
             0.7777777777777778,
             "#fb9f3a"
            ],
            [
             0.8888888888888888,
             "#fdca26"
            ],
            [
             1,
             "#f0f921"
            ]
           ],
           "sequentialminus": [
            [
             0,
             "#0d0887"
            ],
            [
             0.1111111111111111,
             "#46039f"
            ],
            [
             0.2222222222222222,
             "#7201a8"
            ],
            [
             0.3333333333333333,
             "#9c179e"
            ],
            [
             0.4444444444444444,
             "#bd3786"
            ],
            [
             0.5555555555555556,
             "#d8576b"
            ],
            [
             0.6666666666666666,
             "#ed7953"
            ],
            [
             0.7777777777777778,
             "#fb9f3a"
            ],
            [
             0.8888888888888888,
             "#fdca26"
            ],
            [
             1,
             "#f0f921"
            ]
           ]
          },
          "colorway": [
           "#636efa",
           "#EF553B",
           "#00cc96",
           "#ab63fa",
           "#FFA15A",
           "#19d3f3",
           "#FF6692",
           "#B6E880",
           "#FF97FF",
           "#FECB52"
          ],
          "font": {
           "color": "#2a3f5f"
          },
          "geo": {
           "bgcolor": "white",
           "lakecolor": "white",
           "landcolor": "#E5ECF6",
           "showlakes": true,
           "showland": true,
           "subunitcolor": "white"
          },
          "hoverlabel": {
           "align": "left"
          },
          "hovermode": "closest",
          "mapbox": {
           "style": "light"
          },
          "paper_bgcolor": "white",
          "plot_bgcolor": "#E5ECF6",
          "polar": {
           "angularaxis": {
            "gridcolor": "white",
            "linecolor": "white",
            "ticks": ""
           },
           "bgcolor": "#E5ECF6",
           "radialaxis": {
            "gridcolor": "white",
            "linecolor": "white",
            "ticks": ""
           }
          },
          "scene": {
           "xaxis": {
            "backgroundcolor": "#E5ECF6",
            "gridcolor": "white",
            "gridwidth": 2,
            "linecolor": "white",
            "showbackground": true,
            "ticks": "",
            "zerolinecolor": "white"
           },
           "yaxis": {
            "backgroundcolor": "#E5ECF6",
            "gridcolor": "white",
            "gridwidth": 2,
            "linecolor": "white",
            "showbackground": true,
            "ticks": "",
            "zerolinecolor": "white"
           },
           "zaxis": {
            "backgroundcolor": "#E5ECF6",
            "gridcolor": "white",
            "gridwidth": 2,
            "linecolor": "white",
            "showbackground": true,
            "ticks": "",
            "zerolinecolor": "white"
           }
          },
          "shapedefaults": {
           "line": {
            "color": "#2a3f5f"
           }
          },
          "ternary": {
           "aaxis": {
            "gridcolor": "white",
            "linecolor": "white",
            "ticks": ""
           },
           "baxis": {
            "gridcolor": "white",
            "linecolor": "white",
            "ticks": ""
           },
           "bgcolor": "#E5ECF6",
           "caxis": {
            "gridcolor": "white",
            "linecolor": "white",
            "ticks": ""
           }
          },
          "title": {
           "x": 0.05
          },
          "xaxis": {
           "automargin": true,
           "gridcolor": "white",
           "linecolor": "white",
           "ticks": "",
           "title": {
            "standoff": 15
           },
           "zerolinecolor": "white",
           "zerolinewidth": 2
          },
          "yaxis": {
           "automargin": true,
           "gridcolor": "white",
           "linecolor": "white",
           "ticks": "",
           "title": {
            "standoff": 15
           },
           "zerolinecolor": "white",
           "zerolinewidth": 2
          }
         }
        },
        "title": {
         "text": "PCA 2D"
        }
       }
      }
     },
     "metadata": {},
     "output_type": "display_data"
    },
    {
     "data": {
      "application/vnd.plotly.v1+json": {
       "config": {
        "plotlyServerURL": "https://plot.ly"
       },
       "data": [
        {
         "marker": {
          "color": [
           "black",
           "black",
           "black",
           "black",
           "black",
           "black",
           "black",
           "black",
           "black",
           "black",
           "black",
           "black",
           "black",
           "black",
           "black",
           "black",
           "black",
           "black",
           "black",
           "black",
           "black",
           "black",
           "black",
           "black",
           "black",
           "black",
           "black",
           "black"
          ]
         },
         "mode": "markers+text",
         "text": [
          "AfD",
          "BP",
          "BSW",
          "BÜNDNIS DEUTSCHLAND",
          "BüSo",
          "Bündnis C",
          "CDU / CSU",
          "Die Gerechtigkeitspartei - Team Todenhöfer",
          "Die Linke",
          "Die PARTEI",
          "FDP",
          "FREIE WÄHLER",
          "GRÜNE",
          "MENSCHLICHE WELT",
          "MERA25",
          "MLPD",
          "PIRATEN",
          "PdF",
          "PdH",
          "SGP",
          "SPD",
          "SSW",
          "Tierschutzpartei",
          "Verjüngungsforschung",
          "Volt",
          "WerteUnion",
          "dieBasis",
          "ÖDP"
         ],
         "textposition": "top center",
         "type": "scatter3d",
         "x": {
          "bdata": "i7wlewxZHEB2d/oz/UoWQDS47VEMvOW/8coOr5+iGUCa3mEUJ4AGQD1btQqaoRZAzPSRRmQBFEA8DfTG12T2v8foMT/3OxLA6EUlEKvDEcCx1q+bQmEOQN2zaOJUnghAfjiGiRZAC8DedyKOmcYIQCmw4urTMRLA1DwIbh6tD8Bojfeir+gOwJKCK8+Lc/m/f1QT7YxJ/r/l3TLtJegPwMtV2Fgh7wXA7Edz2bknEMDoo/jUmnQSwEjmlOZ8efg/k1DzqkI7EsACAQmejrcXQCIJHtUhoANAOLArpmImAcA=",
          "dtype": "f8"
         },
         "y": {
          "bdata": "vO7MJRVQ9L8K3L+0+n2iP6RzYP8GJvK/aoOhHiFp6D+70jTllo4MwEB2YxkJgP2/F2EJN7qsC0Cs4XJ79wP0v+L6+7qz6Om/vNnEm9LD1r9s99q+fogMQOBftTc47gNA/bfog2JxAUCQLmlhdvf8v+r+yKgarvi/WcxWUXkpBMDZTlWOp7XlPwDhbQHTcgFAb4h8qyzBAkDQ5dHBqr8CwAjmzM9bOwJALQTmOfMF+D9AnN0a/GnZP3k1dvzVvKk/o5esHp2O8z8sEaMkB+rUP9r5pK7H8Q7AbEdByiiL8r8=",
          "dtype": "f8"
         },
         "z": {
          "bdata": "m11aisHQCEBG5KVLAI0CwAg5RIYm7BBA53rk2wGj6b/GEQZyYqzdPzhsMcaWtQbAU6r6ocIxA0AxibAqBTXiP1khfGTeeOk/6qTQRz6q4j+yZVSZU3cAQD/bgT0kzQTApxty80KZuD9+QFW1ITXmvzhu261f/vI/5HVBSPkm4D9aQUirQsX2vyNs06Pv3/q/3IStRVmgy78pOrvC/LLiP0sMoEP6ns8/mZzH0U649L/dui5i/WSzv6+23G7Eh+s/unjxIDB54b8ce1Lx4jveP2gg/xnoyfe/dGvUzJtuAcA=",
          "dtype": "f8"
         }
        }
       ],
       "layout": {
        "template": {
         "data": {
          "bar": [
           {
            "error_x": {
             "color": "#2a3f5f"
            },
            "error_y": {
             "color": "#2a3f5f"
            },
            "marker": {
             "line": {
              "color": "#E5ECF6",
              "width": 0.5
             },
             "pattern": {
              "fillmode": "overlay",
              "size": 10,
              "solidity": 0.2
             }
            },
            "type": "bar"
           }
          ],
          "barpolar": [
           {
            "marker": {
             "line": {
              "color": "#E5ECF6",
              "width": 0.5
             },
             "pattern": {
              "fillmode": "overlay",
              "size": 10,
              "solidity": 0.2
             }
            },
            "type": "barpolar"
           }
          ],
          "carpet": [
           {
            "aaxis": {
             "endlinecolor": "#2a3f5f",
             "gridcolor": "white",
             "linecolor": "white",
             "minorgridcolor": "white",
             "startlinecolor": "#2a3f5f"
            },
            "baxis": {
             "endlinecolor": "#2a3f5f",
             "gridcolor": "white",
             "linecolor": "white",
             "minorgridcolor": "white",
             "startlinecolor": "#2a3f5f"
            },
            "type": "carpet"
           }
          ],
          "choropleth": [
           {
            "colorbar": {
             "outlinewidth": 0,
             "ticks": ""
            },
            "type": "choropleth"
           }
          ],
          "contour": [
           {
            "colorbar": {
             "outlinewidth": 0,
             "ticks": ""
            },
            "colorscale": [
             [
              0,
              "#0d0887"
             ],
             [
              0.1111111111111111,
              "#46039f"
             ],
             [
              0.2222222222222222,
              "#7201a8"
             ],
             [
              0.3333333333333333,
              "#9c179e"
             ],
             [
              0.4444444444444444,
              "#bd3786"
             ],
             [
              0.5555555555555556,
              "#d8576b"
             ],
             [
              0.6666666666666666,
              "#ed7953"
             ],
             [
              0.7777777777777778,
              "#fb9f3a"
             ],
             [
              0.8888888888888888,
              "#fdca26"
             ],
             [
              1,
              "#f0f921"
             ]
            ],
            "type": "contour"
           }
          ],
          "contourcarpet": [
           {
            "colorbar": {
             "outlinewidth": 0,
             "ticks": ""
            },
            "type": "contourcarpet"
           }
          ],
          "heatmap": [
           {
            "colorbar": {
             "outlinewidth": 0,
             "ticks": ""
            },
            "colorscale": [
             [
              0,
              "#0d0887"
             ],
             [
              0.1111111111111111,
              "#46039f"
             ],
             [
              0.2222222222222222,
              "#7201a8"
             ],
             [
              0.3333333333333333,
              "#9c179e"
             ],
             [
              0.4444444444444444,
              "#bd3786"
             ],
             [
              0.5555555555555556,
              "#d8576b"
             ],
             [
              0.6666666666666666,
              "#ed7953"
             ],
             [
              0.7777777777777778,
              "#fb9f3a"
             ],
             [
              0.8888888888888888,
              "#fdca26"
             ],
             [
              1,
              "#f0f921"
             ]
            ],
            "type": "heatmap"
           }
          ],
          "histogram": [
           {
            "marker": {
             "pattern": {
              "fillmode": "overlay",
              "size": 10,
              "solidity": 0.2
             }
            },
            "type": "histogram"
           }
          ],
          "histogram2d": [
           {
            "colorbar": {
             "outlinewidth": 0,
             "ticks": ""
            },
            "colorscale": [
             [
              0,
              "#0d0887"
             ],
             [
              0.1111111111111111,
              "#46039f"
             ],
             [
              0.2222222222222222,
              "#7201a8"
             ],
             [
              0.3333333333333333,
              "#9c179e"
             ],
             [
              0.4444444444444444,
              "#bd3786"
             ],
             [
              0.5555555555555556,
              "#d8576b"
             ],
             [
              0.6666666666666666,
              "#ed7953"
             ],
             [
              0.7777777777777778,
              "#fb9f3a"
             ],
             [
              0.8888888888888888,
              "#fdca26"
             ],
             [
              1,
              "#f0f921"
             ]
            ],
            "type": "histogram2d"
           }
          ],
          "histogram2dcontour": [
           {
            "colorbar": {
             "outlinewidth": 0,
             "ticks": ""
            },
            "colorscale": [
             [
              0,
              "#0d0887"
             ],
             [
              0.1111111111111111,
              "#46039f"
             ],
             [
              0.2222222222222222,
              "#7201a8"
             ],
             [
              0.3333333333333333,
              "#9c179e"
             ],
             [
              0.4444444444444444,
              "#bd3786"
             ],
             [
              0.5555555555555556,
              "#d8576b"
             ],
             [
              0.6666666666666666,
              "#ed7953"
             ],
             [
              0.7777777777777778,
              "#fb9f3a"
             ],
             [
              0.8888888888888888,
              "#fdca26"
             ],
             [
              1,
              "#f0f921"
             ]
            ],
            "type": "histogram2dcontour"
           }
          ],
          "mesh3d": [
           {
            "colorbar": {
             "outlinewidth": 0,
             "ticks": ""
            },
            "type": "mesh3d"
           }
          ],
          "parcoords": [
           {
            "line": {
             "colorbar": {
              "outlinewidth": 0,
              "ticks": ""
             }
            },
            "type": "parcoords"
           }
          ],
          "pie": [
           {
            "automargin": true,
            "type": "pie"
           }
          ],
          "scatter": [
           {
            "fillpattern": {
             "fillmode": "overlay",
             "size": 10,
             "solidity": 0.2
            },
            "type": "scatter"
           }
          ],
          "scatter3d": [
           {
            "line": {
             "colorbar": {
              "outlinewidth": 0,
              "ticks": ""
             }
            },
            "marker": {
             "colorbar": {
              "outlinewidth": 0,
              "ticks": ""
             }
            },
            "type": "scatter3d"
           }
          ],
          "scattercarpet": [
           {
            "marker": {
             "colorbar": {
              "outlinewidth": 0,
              "ticks": ""
             }
            },
            "type": "scattercarpet"
           }
          ],
          "scattergeo": [
           {
            "marker": {
             "colorbar": {
              "outlinewidth": 0,
              "ticks": ""
             }
            },
            "type": "scattergeo"
           }
          ],
          "scattergl": [
           {
            "marker": {
             "colorbar": {
              "outlinewidth": 0,
              "ticks": ""
             }
            },
            "type": "scattergl"
           }
          ],
          "scattermap": [
           {
            "marker": {
             "colorbar": {
              "outlinewidth": 0,
              "ticks": ""
             }
            },
            "type": "scattermap"
           }
          ],
          "scattermapbox": [
           {
            "marker": {
             "colorbar": {
              "outlinewidth": 0,
              "ticks": ""
             }
            },
            "type": "scattermapbox"
           }
          ],
          "scatterpolar": [
           {
            "marker": {
             "colorbar": {
              "outlinewidth": 0,
              "ticks": ""
             }
            },
            "type": "scatterpolar"
           }
          ],
          "scatterpolargl": [
           {
            "marker": {
             "colorbar": {
              "outlinewidth": 0,
              "ticks": ""
             }
            },
            "type": "scatterpolargl"
           }
          ],
          "scatterternary": [
           {
            "marker": {
             "colorbar": {
              "outlinewidth": 0,
              "ticks": ""
             }
            },
            "type": "scatterternary"
           }
          ],
          "surface": [
           {
            "colorbar": {
             "outlinewidth": 0,
             "ticks": ""
            },
            "colorscale": [
             [
              0,
              "#0d0887"
             ],
             [
              0.1111111111111111,
              "#46039f"
             ],
             [
              0.2222222222222222,
              "#7201a8"
             ],
             [
              0.3333333333333333,
              "#9c179e"
             ],
             [
              0.4444444444444444,
              "#bd3786"
             ],
             [
              0.5555555555555556,
              "#d8576b"
             ],
             [
              0.6666666666666666,
              "#ed7953"
             ],
             [
              0.7777777777777778,
              "#fb9f3a"
             ],
             [
              0.8888888888888888,
              "#fdca26"
             ],
             [
              1,
              "#f0f921"
             ]
            ],
            "type": "surface"
           }
          ],
          "table": [
           {
            "cells": {
             "fill": {
              "color": "#EBF0F8"
             },
             "line": {
              "color": "white"
             }
            },
            "header": {
             "fill": {
              "color": "#C8D4E3"
             },
             "line": {
              "color": "white"
             }
            },
            "type": "table"
           }
          ]
         },
         "layout": {
          "annotationdefaults": {
           "arrowcolor": "#2a3f5f",
           "arrowhead": 0,
           "arrowwidth": 1
          },
          "autotypenumbers": "strict",
          "coloraxis": {
           "colorbar": {
            "outlinewidth": 0,
            "ticks": ""
           }
          },
          "colorscale": {
           "diverging": [
            [
             0,
             "#8e0152"
            ],
            [
             0.1,
             "#c51b7d"
            ],
            [
             0.2,
             "#de77ae"
            ],
            [
             0.3,
             "#f1b6da"
            ],
            [
             0.4,
             "#fde0ef"
            ],
            [
             0.5,
             "#f7f7f7"
            ],
            [
             0.6,
             "#e6f5d0"
            ],
            [
             0.7,
             "#b8e186"
            ],
            [
             0.8,
             "#7fbc41"
            ],
            [
             0.9,
             "#4d9221"
            ],
            [
             1,
             "#276419"
            ]
           ],
           "sequential": [
            [
             0,
             "#0d0887"
            ],
            [
             0.1111111111111111,
             "#46039f"
            ],
            [
             0.2222222222222222,
             "#7201a8"
            ],
            [
             0.3333333333333333,
             "#9c179e"
            ],
            [
             0.4444444444444444,
             "#bd3786"
            ],
            [
             0.5555555555555556,
             "#d8576b"
            ],
            [
             0.6666666666666666,
             "#ed7953"
            ],
            [
             0.7777777777777778,
             "#fb9f3a"
            ],
            [
             0.8888888888888888,
             "#fdca26"
            ],
            [
             1,
             "#f0f921"
            ]
           ],
           "sequentialminus": [
            [
             0,
             "#0d0887"
            ],
            [
             0.1111111111111111,
             "#46039f"
            ],
            [
             0.2222222222222222,
             "#7201a8"
            ],
            [
             0.3333333333333333,
             "#9c179e"
            ],
            [
             0.4444444444444444,
             "#bd3786"
            ],
            [
             0.5555555555555556,
             "#d8576b"
            ],
            [
             0.6666666666666666,
             "#ed7953"
            ],
            [
             0.7777777777777778,
             "#fb9f3a"
            ],
            [
             0.8888888888888888,
             "#fdca26"
            ],
            [
             1,
             "#f0f921"
            ]
           ]
          },
          "colorway": [
           "#636efa",
           "#EF553B",
           "#00cc96",
           "#ab63fa",
           "#FFA15A",
           "#19d3f3",
           "#FF6692",
           "#B6E880",
           "#FF97FF",
           "#FECB52"
          ],
          "font": {
           "color": "#2a3f5f"
          },
          "geo": {
           "bgcolor": "white",
           "lakecolor": "white",
           "landcolor": "#E5ECF6",
           "showlakes": true,
           "showland": true,
           "subunitcolor": "white"
          },
          "hoverlabel": {
           "align": "left"
          },
          "hovermode": "closest",
          "mapbox": {
           "style": "light"
          },
          "paper_bgcolor": "white",
          "plot_bgcolor": "#E5ECF6",
          "polar": {
           "angularaxis": {
            "gridcolor": "white",
            "linecolor": "white",
            "ticks": ""
           },
           "bgcolor": "#E5ECF6",
           "radialaxis": {
            "gridcolor": "white",
            "linecolor": "white",
            "ticks": ""
           }
          },
          "scene": {
           "xaxis": {
            "backgroundcolor": "#E5ECF6",
            "gridcolor": "white",
            "gridwidth": 2,
            "linecolor": "white",
            "showbackground": true,
            "ticks": "",
            "zerolinecolor": "white"
           },
           "yaxis": {
            "backgroundcolor": "#E5ECF6",
            "gridcolor": "white",
            "gridwidth": 2,
            "linecolor": "white",
            "showbackground": true,
            "ticks": "",
            "zerolinecolor": "white"
           },
           "zaxis": {
            "backgroundcolor": "#E5ECF6",
            "gridcolor": "white",
            "gridwidth": 2,
            "linecolor": "white",
            "showbackground": true,
            "ticks": "",
            "zerolinecolor": "white"
           }
          },
          "shapedefaults": {
           "line": {
            "color": "#2a3f5f"
           }
          },
          "ternary": {
           "aaxis": {
            "gridcolor": "white",
            "linecolor": "white",
            "ticks": ""
           },
           "baxis": {
            "gridcolor": "white",
            "linecolor": "white",
            "ticks": ""
           },
           "bgcolor": "#E5ECF6",
           "caxis": {
            "gridcolor": "white",
            "linecolor": "white",
            "ticks": ""
           }
          },
          "title": {
           "x": 0.05
          },
          "xaxis": {
           "automargin": true,
           "gridcolor": "white",
           "linecolor": "white",
           "ticks": "",
           "title": {
            "standoff": 15
           },
           "zerolinecolor": "white",
           "zerolinewidth": 2
          },
          "yaxis": {
           "automargin": true,
           "gridcolor": "white",
           "linecolor": "white",
           "ticks": "",
           "title": {
            "standoff": 15
           },
           "zerolinecolor": "white",
           "zerolinewidth": 2
          }
         }
        },
        "title": {
         "text": "PCA 3D"
        }
       }
      }
     },
     "metadata": {},
     "output_type": "display_data"
    }
   ],
   "source": [
    "mean = df_fixed.mean(axis=0)\n",
    "std = df_fixed.std(axis=0)\n",
    "std[std==0] = 1\n",
    "\n",
    "data_norm = (df_fixed - mean) / std\n",
    "\n",
    "cov = np.cov(data_norm.T)\n",
    "eig_vals, eig_vecs = np.linalg.eig(cov)\n",
    "eig_vals = np.real(eig_vals)\n",
    "eig_vecs = np.real(eig_vecs)\n",
    "\n",
    "\n",
    "sort = np.argsort(eig_vals)[::-1]\n",
    "eig_vals = eig_vals[sort]\n",
    "eig_vecs = eig_vecs[:,sort]\n",
    "\n",
    "\n",
    "pc_vecs_1d = eig_vecs[:,:1]\n",
    "pc_vecs_2d = eig_vecs[:,:2]\n",
    "pc_vecs_3d = eig_vecs[:,:3]\n",
    "\n",
    "pcs_1d = data_norm @ pc_vecs_1d\n",
    "pcs_2d = data_norm @ pc_vecs_2d\n",
    "pcs_3d = data_norm @ pc_vecs_3d\n",
    "\n",
    "\n",
    "plt = plot_cumcum(eig_vals)\n",
    "plt.write_html('plots/cumsum_2025.html', include_plotlyjs='cdn', full_html=False)\n",
    "plt.show()\n",
    "\n",
    "plt = plot_heatmap(cov, df_fixed.columns, df_fixed.columns)\n",
    "plt.write_html('plots/heatmap_2025.html', include_plotlyjs='cdn', full_html=False)\n",
    "plt.show()\n",
    "\n",
    "plt = plot_pcs(pc_vecs_3d, df_fixed.columns)\n",
    "plt.write_html('plots/pcs_2025.html', include_plotlyjs='cdn',full_html=False)\n",
    "plt.show()\n",
    "\n",
    "fig = plot_pca1d(pcs_1d.values, df_fixed.index, ['black'] * pcs_1d.shape[0])\n",
    "fig.write_html('plots/pca1d_2025.html',include_plotlyjs='cdn', full_html=False)\n",
    "fig.show()\n",
    "\n",
    "fig = plot_pca2d(pcs_2d.values, df_fixed.index, ['black'] * pcs_2d.shape[0])\n",
    "fig.write_html('plots/pca2d_2025.html',include_plotlyjs='cdn', full_html=False)\n",
    "fig.show()\n",
    "\n",
    "plt = plot_pca3d(pcs_3d.values, df_fixed.index, ['black'] * pcs_2d.shape[0])\n",
    "plt.write_html('plots/pca3d_2025.html',include_plotlyjs='cdn', full_html=False)\n",
    "plt.show()\n"
   ]
  },
  {
   "cell_type": "markdown",
   "metadata": {},
   "source": [
    "### Max Covariance"
   ]
  },
  {
   "cell_type": "code",
   "execution_count": 35,
   "metadata": {},
   "outputs": [
    {
     "name": "stdout",
     "output_type": "stream",
     "text": [
      "top entries: \n",
      " Kontrolle von Zulieferern - Anhebung des Spitzensteuersatzes : 0.902\n",
      "Anhebung des Spitzensteuersatzes - Zweite Staatsbürgerschaft : 0.897\n",
      "Schwangerschaftsabbruch nach Beratung - Grundgesetz : 0.892\n",
      "Begrenzung der Mietpreise - Erhöhung des Mindestlohns : 0.884\n",
      "Krankenkassen - Kontrolle von Zulieferern : 0.869\n",
      "Krankenkassen - Schiene vor Straße : 0.854\n",
      "Kontrolle von Zulieferern - Schiene vor Straße : 0.834\n",
      "Abweisung Asylsuchender - Umlegung der Grundsteuer : 0.824\n",
      "Ökologische Landwirtschaft - Tempolimit auf Autobahnen : 0.823\n",
      "Anhebung des Spitzensteuersatzes - Erhöhung des Mindestlohns : 0.820 \n",
      "\n",
      "bottom entries: \n",
      " Projekte gegen Rechtsextremismus - Verwerfen der Klimaziele : -1.000\n",
      "Abweisung Asylsuchender - Kontrolle von Zulieferern : -0.879\n",
      "Schuldenbremse - Anhebung des Spitzensteuersatzes : -0.874\n",
      "Automatisierte Gesichtserkennung - Arbeitserlaubnis für Asylsuchende : -0.865\n",
      "Krankenkassen - Nutzung der Kernenergie : -0.835\n",
      "Fossile Brennstoffe - Kontrolle von Zulieferern : -0.831\n",
      "Nutzung der Kernenergie - Kontrolle von Zulieferern : -0.801\n",
      "Kontrolle von Zulieferern - Schuldenbremse : -0.798\n",
      "Schwangerschaftsabbruch nach Beratung - Schiene vor Straße : -0.795\n",
      "Zweite Staatsbürgerschaft - Schuldenbremse : -0.789\n"
     ]
    }
   ],
   "source": [
    "top_indices = np.unravel_index(np.argsort(cov, axis=None)[::-1], cov.shape)\n",
    "\n",
    "top_entries = [(df_fixed.columns[i], df_fixed.columns[j], cov[i,j]) for i, j in zip(*top_indices) if cov[i, j]]\n",
    "top_10 = top_entries[38:58:2]\n",
    "bottom_10 = top_entries[-20::2]\n",
    "\n",
    "print('top entries: \\n', '\\n'.join([f'{i[0]} - {i[1]} : {i[2]:.3f}' for i in top_10]), '\\n')\n",
    "print('bottom entries: \\n', '\\n'.join([f'{i[0]} - {i[1]} : {i[2]:.3f}' for i in bottom_10[::-1]]))\n",
    "\n"
   ]
  },
  {
   "cell_type": "markdown",
   "metadata": {},
   "source": [
    "### Fixed size clustering (KMeans)"
   ]
  },
  {
   "cell_type": "code",
   "execution_count": 52,
   "metadata": {},
   "outputs": [
    {
     "data": {
      "application/vnd.plotly.v1+json": {
       "config": {
        "plotlyServerURL": "https://plot.ly"
       },
       "data": [
        {
         "marker": {
          "color": [
           "rgb(97,35,92)",
           "rgb(97,35,92)",
           "rgb(194,131,204)",
           "rgb(97,35,92)",
           "rgb(103,218,89)",
           "rgb(97,35,92)",
           "rgb(108,145,163)",
           "rgb(194,131,204)",
           "rgb(43,93,89)",
           "rgb(238,16,140)",
           "rgb(108,145,163)",
           "rgb(108,145,163)",
           "rgb(112,206,90)",
           "rgb(103,218,89)",
           "rgb(43,93,89)",
           "rgb(43,93,89)",
           "rgb(238,16,140)",
           "rgb(112,206,90)",
           "rgb(112,206,90)",
           "rgb(43,93,89)",
           "rgb(112,206,90)",
           "rgb(238,16,140)",
           "rgb(238,16,140)",
           "rgb(194,131,204)",
           "rgb(238,16,140)",
           "rgb(97,35,92)",
           "rgb(103,218,89)",
           "rgb(194,131,204)"
          ],
          "size": 10
         },
         "mode": "markers+text",
         "text": [
          "AfD",
          "BP",
          "BSW",
          "BÜNDNIS DEUTSCHLAND",
          "BüSo",
          "Bündnis C",
          "CDU / CSU",
          "Die Gerechtigkeitspartei - Team Todenhöfer",
          "Die Linke",
          "Die PARTEI",
          "FDP",
          "FREIE WÄHLER",
          "GRÜNE",
          "MENSCHLICHE WELT",
          "MERA25",
          "MLPD",
          "PIRATEN",
          "PdF",
          "PdH",
          "SGP",
          "SPD",
          "SSW",
          "Tierschutzpartei",
          "Verjüngungsforschung",
          "Volt",
          "WerteUnion",
          "dieBasis",
          "ÖDP"
         ],
         "textposition": "top center",
         "type": "scatter",
         "x": {
          "bdata": "i7wlewxZHEB2d/oz/UoWQDS47VEMvOW/8coOr5+iGUCa3mEUJ4AGQD1btQqaoRZAzPSRRmQBFEA8DfTG12T2v8foMT/3OxLA6EUlEKvDEcCx1q+bQmEOQN2zaOJUnghAfjiGiRZAC8DedyKOmcYIQCmw4urTMRLA1DwIbh6tD8Bojfeir+gOwJKCK8+Lc/m/f1QT7YxJ/r/l3TLtJegPwMtV2Fgh7wXA7Edz2bknEMDoo/jUmnQSwEjmlOZ8efg/k1DzqkI7EsACAQmejrcXQCIJHtUhoANAOLArpmImAcA=",
          "dtype": "f8"
         },
         "y": {
          "bdata": "vO7MJRVQ9L8K3L+0+n2iP6RzYP8GJvK/aoOhHiFp6D+70jTllo4MwEB2YxkJgP2/F2EJN7qsC0Cs4XJ79wP0v+L6+7qz6Om/vNnEm9LD1r9s99q+fogMQOBftTc47gNA/bfog2JxAUCQLmlhdvf8v+r+yKgarvi/WcxWUXkpBMDZTlWOp7XlPwDhbQHTcgFAb4h8qyzBAkDQ5dHBqr8CwAjmzM9bOwJALQTmOfMF+D9AnN0a/GnZP3k1dvzVvKk/o5esHp2O8z8sEaMkB+rUP9r5pK7H8Q7AbEdByiiL8r8=",
          "dtype": "f8"
         }
        }
       ],
       "layout": {
        "template": {
         "data": {
          "bar": [
           {
            "error_x": {
             "color": "#2a3f5f"
            },
            "error_y": {
             "color": "#2a3f5f"
            },
            "marker": {
             "line": {
              "color": "#E5ECF6",
              "width": 0.5
             },
             "pattern": {
              "fillmode": "overlay",
              "size": 10,
              "solidity": 0.2
             }
            },
            "type": "bar"
           }
          ],
          "barpolar": [
           {
            "marker": {
             "line": {
              "color": "#E5ECF6",
              "width": 0.5
             },
             "pattern": {
              "fillmode": "overlay",
              "size": 10,
              "solidity": 0.2
             }
            },
            "type": "barpolar"
           }
          ],
          "carpet": [
           {
            "aaxis": {
             "endlinecolor": "#2a3f5f",
             "gridcolor": "white",
             "linecolor": "white",
             "minorgridcolor": "white",
             "startlinecolor": "#2a3f5f"
            },
            "baxis": {
             "endlinecolor": "#2a3f5f",
             "gridcolor": "white",
             "linecolor": "white",
             "minorgridcolor": "white",
             "startlinecolor": "#2a3f5f"
            },
            "type": "carpet"
           }
          ],
          "choropleth": [
           {
            "colorbar": {
             "outlinewidth": 0,
             "ticks": ""
            },
            "type": "choropleth"
           }
          ],
          "contour": [
           {
            "colorbar": {
             "outlinewidth": 0,
             "ticks": ""
            },
            "colorscale": [
             [
              0,
              "#0d0887"
             ],
             [
              0.1111111111111111,
              "#46039f"
             ],
             [
              0.2222222222222222,
              "#7201a8"
             ],
             [
              0.3333333333333333,
              "#9c179e"
             ],
             [
              0.4444444444444444,
              "#bd3786"
             ],
             [
              0.5555555555555556,
              "#d8576b"
             ],
             [
              0.6666666666666666,
              "#ed7953"
             ],
             [
              0.7777777777777778,
              "#fb9f3a"
             ],
             [
              0.8888888888888888,
              "#fdca26"
             ],
             [
              1,
              "#f0f921"
             ]
            ],
            "type": "contour"
           }
          ],
          "contourcarpet": [
           {
            "colorbar": {
             "outlinewidth": 0,
             "ticks": ""
            },
            "type": "contourcarpet"
           }
          ],
          "heatmap": [
           {
            "colorbar": {
             "outlinewidth": 0,
             "ticks": ""
            },
            "colorscale": [
             [
              0,
              "#0d0887"
             ],
             [
              0.1111111111111111,
              "#46039f"
             ],
             [
              0.2222222222222222,
              "#7201a8"
             ],
             [
              0.3333333333333333,
              "#9c179e"
             ],
             [
              0.4444444444444444,
              "#bd3786"
             ],
             [
              0.5555555555555556,
              "#d8576b"
             ],
             [
              0.6666666666666666,
              "#ed7953"
             ],
             [
              0.7777777777777778,
              "#fb9f3a"
             ],
             [
              0.8888888888888888,
              "#fdca26"
             ],
             [
              1,
              "#f0f921"
             ]
            ],
            "type": "heatmap"
           }
          ],
          "histogram": [
           {
            "marker": {
             "pattern": {
              "fillmode": "overlay",
              "size": 10,
              "solidity": 0.2
             }
            },
            "type": "histogram"
           }
          ],
          "histogram2d": [
           {
            "colorbar": {
             "outlinewidth": 0,
             "ticks": ""
            },
            "colorscale": [
             [
              0,
              "#0d0887"
             ],
             [
              0.1111111111111111,
              "#46039f"
             ],
             [
              0.2222222222222222,
              "#7201a8"
             ],
             [
              0.3333333333333333,
              "#9c179e"
             ],
             [
              0.4444444444444444,
              "#bd3786"
             ],
             [
              0.5555555555555556,
              "#d8576b"
             ],
             [
              0.6666666666666666,
              "#ed7953"
             ],
             [
              0.7777777777777778,
              "#fb9f3a"
             ],
             [
              0.8888888888888888,
              "#fdca26"
             ],
             [
              1,
              "#f0f921"
             ]
            ],
            "type": "histogram2d"
           }
          ],
          "histogram2dcontour": [
           {
            "colorbar": {
             "outlinewidth": 0,
             "ticks": ""
            },
            "colorscale": [
             [
              0,
              "#0d0887"
             ],
             [
              0.1111111111111111,
              "#46039f"
             ],
             [
              0.2222222222222222,
              "#7201a8"
             ],
             [
              0.3333333333333333,
              "#9c179e"
             ],
             [
              0.4444444444444444,
              "#bd3786"
             ],
             [
              0.5555555555555556,
              "#d8576b"
             ],
             [
              0.6666666666666666,
              "#ed7953"
             ],
             [
              0.7777777777777778,
              "#fb9f3a"
             ],
             [
              0.8888888888888888,
              "#fdca26"
             ],
             [
              1,
              "#f0f921"
             ]
            ],
            "type": "histogram2dcontour"
           }
          ],
          "mesh3d": [
           {
            "colorbar": {
             "outlinewidth": 0,
             "ticks": ""
            },
            "type": "mesh3d"
           }
          ],
          "parcoords": [
           {
            "line": {
             "colorbar": {
              "outlinewidth": 0,
              "ticks": ""
             }
            },
            "type": "parcoords"
           }
          ],
          "pie": [
           {
            "automargin": true,
            "type": "pie"
           }
          ],
          "scatter": [
           {
            "fillpattern": {
             "fillmode": "overlay",
             "size": 10,
             "solidity": 0.2
            },
            "type": "scatter"
           }
          ],
          "scatter3d": [
           {
            "line": {
             "colorbar": {
              "outlinewidth": 0,
              "ticks": ""
             }
            },
            "marker": {
             "colorbar": {
              "outlinewidth": 0,
              "ticks": ""
             }
            },
            "type": "scatter3d"
           }
          ],
          "scattercarpet": [
           {
            "marker": {
             "colorbar": {
              "outlinewidth": 0,
              "ticks": ""
             }
            },
            "type": "scattercarpet"
           }
          ],
          "scattergeo": [
           {
            "marker": {
             "colorbar": {
              "outlinewidth": 0,
              "ticks": ""
             }
            },
            "type": "scattergeo"
           }
          ],
          "scattergl": [
           {
            "marker": {
             "colorbar": {
              "outlinewidth": 0,
              "ticks": ""
             }
            },
            "type": "scattergl"
           }
          ],
          "scattermap": [
           {
            "marker": {
             "colorbar": {
              "outlinewidth": 0,
              "ticks": ""
             }
            },
            "type": "scattermap"
           }
          ],
          "scattermapbox": [
           {
            "marker": {
             "colorbar": {
              "outlinewidth": 0,
              "ticks": ""
             }
            },
            "type": "scattermapbox"
           }
          ],
          "scatterpolar": [
           {
            "marker": {
             "colorbar": {
              "outlinewidth": 0,
              "ticks": ""
             }
            },
            "type": "scatterpolar"
           }
          ],
          "scatterpolargl": [
           {
            "marker": {
             "colorbar": {
              "outlinewidth": 0,
              "ticks": ""
             }
            },
            "type": "scatterpolargl"
           }
          ],
          "scatterternary": [
           {
            "marker": {
             "colorbar": {
              "outlinewidth": 0,
              "ticks": ""
             }
            },
            "type": "scatterternary"
           }
          ],
          "surface": [
           {
            "colorbar": {
             "outlinewidth": 0,
             "ticks": ""
            },
            "colorscale": [
             [
              0,
              "#0d0887"
             ],
             [
              0.1111111111111111,
              "#46039f"
             ],
             [
              0.2222222222222222,
              "#7201a8"
             ],
             [
              0.3333333333333333,
              "#9c179e"
             ],
             [
              0.4444444444444444,
              "#bd3786"
             ],
             [
              0.5555555555555556,
              "#d8576b"
             ],
             [
              0.6666666666666666,
              "#ed7953"
             ],
             [
              0.7777777777777778,
              "#fb9f3a"
             ],
             [
              0.8888888888888888,
              "#fdca26"
             ],
             [
              1,
              "#f0f921"
             ]
            ],
            "type": "surface"
           }
          ],
          "table": [
           {
            "cells": {
             "fill": {
              "color": "#EBF0F8"
             },
             "line": {
              "color": "white"
             }
            },
            "header": {
             "fill": {
              "color": "#C8D4E3"
             },
             "line": {
              "color": "white"
             }
            },
            "type": "table"
           }
          ]
         },
         "layout": {
          "annotationdefaults": {
           "arrowcolor": "#2a3f5f",
           "arrowhead": 0,
           "arrowwidth": 1
          },
          "autotypenumbers": "strict",
          "coloraxis": {
           "colorbar": {
            "outlinewidth": 0,
            "ticks": ""
           }
          },
          "colorscale": {
           "diverging": [
            [
             0,
             "#8e0152"
            ],
            [
             0.1,
             "#c51b7d"
            ],
            [
             0.2,
             "#de77ae"
            ],
            [
             0.3,
             "#f1b6da"
            ],
            [
             0.4,
             "#fde0ef"
            ],
            [
             0.5,
             "#f7f7f7"
            ],
            [
             0.6,
             "#e6f5d0"
            ],
            [
             0.7,
             "#b8e186"
            ],
            [
             0.8,
             "#7fbc41"
            ],
            [
             0.9,
             "#4d9221"
            ],
            [
             1,
             "#276419"
            ]
           ],
           "sequential": [
            [
             0,
             "#0d0887"
            ],
            [
             0.1111111111111111,
             "#46039f"
            ],
            [
             0.2222222222222222,
             "#7201a8"
            ],
            [
             0.3333333333333333,
             "#9c179e"
            ],
            [
             0.4444444444444444,
             "#bd3786"
            ],
            [
             0.5555555555555556,
             "#d8576b"
            ],
            [
             0.6666666666666666,
             "#ed7953"
            ],
            [
             0.7777777777777778,
             "#fb9f3a"
            ],
            [
             0.8888888888888888,
             "#fdca26"
            ],
            [
             1,
             "#f0f921"
            ]
           ],
           "sequentialminus": [
            [
             0,
             "#0d0887"
            ],
            [
             0.1111111111111111,
             "#46039f"
            ],
            [
             0.2222222222222222,
             "#7201a8"
            ],
            [
             0.3333333333333333,
             "#9c179e"
            ],
            [
             0.4444444444444444,
             "#bd3786"
            ],
            [
             0.5555555555555556,
             "#d8576b"
            ],
            [
             0.6666666666666666,
             "#ed7953"
            ],
            [
             0.7777777777777778,
             "#fb9f3a"
            ],
            [
             0.8888888888888888,
             "#fdca26"
            ],
            [
             1,
             "#f0f921"
            ]
           ]
          },
          "colorway": [
           "#636efa",
           "#EF553B",
           "#00cc96",
           "#ab63fa",
           "#FFA15A",
           "#19d3f3",
           "#FF6692",
           "#B6E880",
           "#FF97FF",
           "#FECB52"
          ],
          "font": {
           "color": "#2a3f5f"
          },
          "geo": {
           "bgcolor": "white",
           "lakecolor": "white",
           "landcolor": "#E5ECF6",
           "showlakes": true,
           "showland": true,
           "subunitcolor": "white"
          },
          "hoverlabel": {
           "align": "left"
          },
          "hovermode": "closest",
          "mapbox": {
           "style": "light"
          },
          "paper_bgcolor": "white",
          "plot_bgcolor": "#E5ECF6",
          "polar": {
           "angularaxis": {
            "gridcolor": "white",
            "linecolor": "white",
            "ticks": ""
           },
           "bgcolor": "#E5ECF6",
           "radialaxis": {
            "gridcolor": "white",
            "linecolor": "white",
            "ticks": ""
           }
          },
          "scene": {
           "xaxis": {
            "backgroundcolor": "#E5ECF6",
            "gridcolor": "white",
            "gridwidth": 2,
            "linecolor": "white",
            "showbackground": true,
            "ticks": "",
            "zerolinecolor": "white"
           },
           "yaxis": {
            "backgroundcolor": "#E5ECF6",
            "gridcolor": "white",
            "gridwidth": 2,
            "linecolor": "white",
            "showbackground": true,
            "ticks": "",
            "zerolinecolor": "white"
           },
           "zaxis": {
            "backgroundcolor": "#E5ECF6",
            "gridcolor": "white",
            "gridwidth": 2,
            "linecolor": "white",
            "showbackground": true,
            "ticks": "",
            "zerolinecolor": "white"
           }
          },
          "shapedefaults": {
           "line": {
            "color": "#2a3f5f"
           }
          },
          "ternary": {
           "aaxis": {
            "gridcolor": "white",
            "linecolor": "white",
            "ticks": ""
           },
           "baxis": {
            "gridcolor": "white",
            "linecolor": "white",
            "ticks": ""
           },
           "bgcolor": "#E5ECF6",
           "caxis": {
            "gridcolor": "white",
            "linecolor": "white",
            "ticks": ""
           }
          },
          "title": {
           "x": 0.05
          },
          "xaxis": {
           "automargin": true,
           "gridcolor": "white",
           "linecolor": "white",
           "ticks": "",
           "title": {
            "standoff": 15
           },
           "zerolinecolor": "white",
           "zerolinewidth": 2
          },
          "yaxis": {
           "automargin": true,
           "gridcolor": "white",
           "linecolor": "white",
           "ticks": "",
           "title": {
            "standoff": 15
           },
           "zerolinecolor": "white",
           "zerolinewidth": 2
          }
         }
        },
        "title": {
         "text": "PCA 2D"
        }
       }
      }
     },
     "metadata": {},
     "output_type": "display_data"
    }
   ],
   "source": [
    "DIMS = 38\n",
    "K = 7\n",
    "\n",
    "points = data_norm @ pc_vecs_2d[:,:DIMS]\n",
    "\n",
    "best_c = None\n",
    "best_m = 10e10\n",
    "for i in range(1000):\n",
    "    clusterer = cluster.KMeans(n_clusters=K)\n",
    "    labels = clusterer.fit_predict(points)\n",
    "    avg_sq_dist = np.mean([np.linalg.norm(points[labels==i] - np.mean(points[labels==i], axis=0))**2 for i in range(K)])\n",
    "    if avg_sq_dist < best_m:\n",
    "        best_m = avg_sq_dist\n",
    "        best_c = labels\n",
    "\n",
    "\n",
    "unique_labels = np.unique(best_c)\n",
    "colors = [f'rgb({r},{g},{b})' for r, g, b in np.random.randint(0, 255, size=(len(unique_labels), 3))]\n",
    "\n",
    "fig = plot_pca2d(points.values, df_fixed.index, [colors[label] for label in best_c]).show()\n",
    "plot_pca2d(pcs_2d.values, df_fixed.index, [colors[label] for label in labels]).write_html('plots/pca2d_clustered_kmeans.html',include_plotlyjs='cdn', full_html=False)"
   ]
  },
  {
   "cell_type": "code",
   "execution_count": null,
   "metadata": {},
   "outputs": [],
   "source": []
  },
  {
   "cell_type": "code",
   "execution_count": null,
   "metadata": {},
   "outputs": [],
   "source": []
  }
 ],
 "metadata": {
  "kernelspec": {
   "display_name": "base",
   "language": "python",
   "name": "python3"
  },
  "language_info": {
   "codemirror_mode": {
    "name": "ipython",
    "version": 3
   },
   "file_extension": ".py",
   "mimetype": "text/x-python",
   "name": "python",
   "nbconvert_exporter": "python",
   "pygments_lexer": "ipython3",
   "version": "3.12.2"
  }
 },
 "nbformat": 4,
 "nbformat_minor": 2
}
